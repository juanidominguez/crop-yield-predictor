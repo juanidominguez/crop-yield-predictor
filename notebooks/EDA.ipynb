{
 "cells": [
  {
   "cell_type": "markdown",
   "id": "e99ba94a",
   "metadata": {},
   "source": [
    "# Analisis Exploratorio de los Datos"
   ]
  },
  {
   "cell_type": "markdown",
   "id": "e1da8903",
   "metadata": {},
   "source": [
    "En la siguiente notebook se busca entender el dataset y realizar un análisis exploratorio de los datos. El objetivo es entender el problema al que nos enfrentamos, como vienen los datos desde el origen y las variables que se tienen. Una vez identificadas, procederemos a realizar el feature engineering, feature creation, feature selection, feature importance, etc. Finalmente, se rescatara solo la parte del proceso de cleaning y transformaciones/feature engineering para crear el feature_engineering_pipeline.py con los estandares necesarios para correrse en produccion\n"
   ]
  },
  {
   "cell_type": "markdown",
   "id": "884e069c",
   "metadata": {},
   "source": [
    "## 1. Carga y limpieza de datos"
   ]
  },
  {
   "cell_type": "code",
   "execution_count": 1,
   "id": "ee90f9da",
   "metadata": {},
   "outputs": [
    {
     "name": "stdout",
     "output_type": "stream",
     "text": [
      "El Set de Datos se encuentra disponible en: d:\\crop-yield-predictor\\crop-yield-predictor\\data\n"
     ]
    }
   ],
   "source": [
    "import kagglehub\n",
    "import os\n",
    "import shutil\n",
    "import pandas as pd\n",
    "import numpy as np\n",
    "import matplotlib.pyplot as plt\n",
    "import seaborn as sns\n",
    "import math\n",
    "\n",
    "# defino el directorio para guardar el set de datos\n",
    "target_dir = \"../data\"\n",
    "os.makedirs(target_dir, exist_ok=True)\n",
    "\n",
    "# Descargo el set de datos como se indica en Kaggle\n",
    "path = kagglehub.dataset_download(\"patelris/crop-yield-prediction-dataset\")\n",
    "\n",
    "# Muevo los archivos del cache al path de data \n",
    "for file in os.listdir(path):\n",
    "    shutil.move(os.path.join(path, file), target_dir)\n",
    "\n",
    "print(\"El Set de Datos se encuentra disponible en:\", os.path.abspath(target_dir))"
   ]
  },
  {
   "cell_type": "markdown",
   "id": "1174499f",
   "metadata": {},
   "source": [
    "* Desde la direccion proporcionada en Kaggle ya viene un dataset unificado 'yield_df', pero luego de inspeccionarlo vemos que tiene aplicadas tecnicas que no son muy convenientes para este analisis. \n",
    "* Utilizamos en su lugar solo los dataframes originales que aun no estan procesados, excluyendo tambien el dataset pesticides.csv ya que traemos uno mas desagregado.\n",
    "* Agregamos por fuera dos bases de datos que se encuentran en http://www.fao.org/home/en/ (pagina mencionada como una de las fuentes de datos) y son interesantes de analizar. La primera es una desagregacion de los pesticidas obtenida de https://www.fao.org/faostat/en/#data/RP y la segunda es el uso de fertilizantes https://www.fao.org/faostat/en/#data/RFB. Explicamos luego porque estas bases pueden aportar mucha informacion. Habia otras bases interesantes como el uso de la tierra para agricultura que se podrian utilizar en un futuro si no se logran buenos predictores con los datos ya recolectados. "
   ]
  },
  {
   "cell_type": "code",
   "execution_count": 2,
   "id": "2238a093",
   "metadata": {},
   "outputs": [],
   "source": [
    "df_yield = pd.read_csv(\"../data/yield.csv\")\n",
    "df_temp= pd.read_csv(\"../data/temp.csv\")\n",
    "df_rainfall = pd.read_csv(\"../data/rainfall.csv\")\n",
    "df_pesticides_by_type = pd.read_csv(\"../data/pesticides_by_type.csv\")\n",
    "df_fertilizers_by_type = pd.read_csv(\"../data/fertilizers_by_type.csv\")"
   ]
  },
  {
   "cell_type": "markdown",
   "id": "3baf5b09",
   "metadata": {},
   "source": [
    "Eliminamos las columnas que no aportan informacion ya que contienen un solo valor."
   ]
  },
  {
   "cell_type": "code",
   "execution_count": 3,
   "id": "9a9b4204",
   "metadata": {},
   "outputs": [
    {
     "name": "stdout",
     "output_type": "stream",
     "text": [
      "Las siguientes columnas de df_yield se eliminan ya que no aportan información:\n",
      "'Domain Code'\n",
      "'Domain'\n",
      "'Element Code'\n",
      "'Element'\n",
      "'Unit'\n",
      "Las siguientes columnas de df_temp se eliminan ya que no aportan información:\n",
      "Las siguientes columnas de df_rainfall se eliminan ya que no aportan información:\n",
      "Las siguientes columnas de df_pesticides_by_type se eliminan ya que no aportan información:\n",
      "'Domain Code'\n",
      "'Domain'\n",
      "Las siguientes columnas de df_fertilizers_by_type se eliminan ya que no aportan información:\n",
      "'Domain Code'\n",
      "'Domain'\n",
      "'Element Code'\n",
      "'Element'\n",
      "'Unit'\n"
     ]
    }
   ],
   "source": [
    "def drop_single_value_columns(df, df_name=\"\"):\n",
    "    \"\"\"Elimina columnas con un solo valor único\"\"\"\n",
    "    print(f\"Las siguientes columnas de {df_name} se eliminan ya que no aportan información:\")\n",
    "    for col in df.columns:\n",
    "        if df[col].nunique() == 1:\n",
    "            df = df.drop(columns=[col])\n",
    "            print(f\"'{col}'\")\n",
    "    return df\n",
    "\n",
    "\n",
    "df_yield = drop_single_value_columns(df_yield, \"df_yield\")\n",
    "df_temp = drop_single_value_columns(df_temp, \"df_temp\") \n",
    "df_rainfall = drop_single_value_columns(df_rainfall, \"df_rainfall\")\n",
    "df_pesticides_by_type = drop_single_value_columns(df_pesticides_by_type, \"df_pesticides_by_type\")\n",
    "df_fertilizers_by_type = drop_single_value_columns(df_fertilizers_by_type, \"df_fertilizers_by_type\")"
   ]
  },
  {
   "cell_type": "markdown",
   "id": "8c4f62d2",
   "metadata": {},
   "source": [
    "### Base de datos de pesticidas"
   ]
  },
  {
   "cell_type": "markdown",
   "id": "ec0d6e38",
   "metadata": {},
   "source": [
    "Como dice el propio informe de FAOSTAT: \"Los pesticidas son un insumo agrícola clave que se utiliza para proteger las semillas y resguardar los cultivos de plantas, insectos, bacterias, hongos y roedores no deseados\". \n",
    "\n",
    "Porque nos sirve? Porque es un mecanismo agronómico directo (controlan adversidades que afectan al maíz). Los **principales tipos a rescatar para el tratamiento del maiz** son:\n",
    "* **Fungicides and Bactericides**: Epidemias de tizón, roya, etc, reducen el t/ha y el uso de fungicidas suele mejorar el rendimiento medio, dependiendo del timing y clase química.\n",
    "* **Herbicides**: El control de malezas explica gran parte de la brecha de rendimiento; ensayos sin herbicidas muestran pérdidas >10 %.\n",
    "* **Insecticides**: Raíces y espigas dañadas por insectos (ej. Diabrotica, Spodoptera) merman el peso del grano.\n",
    "* Evitamos el element 'Use per value of agricultural production' medido en 'g/Int$' ya que esta relacionada con variables económicas y suele correlacionar con PIB más que con agronomía/rendimientos que es nuestra variable target en este caso.\n",
    "* Por ultimo, esta desagregacion por tipo de pesticidas puede servir para medir luego interacciones agroclimáticas (analisis multivariado), cruzando cada tipo de pesticida con precipitaciones y temperatura para reflejar presión de enfermedades y malezas!"
   ]
  },
  {
   "cell_type": "code",
   "execution_count": 4,
   "id": "4ae93075",
   "metadata": {},
   "outputs": [],
   "source": [
    "# elimino otras columnas que no aportan informacion (se podria considerar dejar el Flag en un futuro)\n",
    "df_pesticides_by_type.drop(['Area Code (M49)', 'Element Code', 'Item Code', 'Year Code', 'Flag', 'Flag Description', 'Note'], axis=1, inplace=True)"
   ]
  },
  {
   "cell_type": "code",
   "execution_count": 5,
   "id": "3e9d5000",
   "metadata": {},
   "outputs": [
    {
     "data": {
      "text/html": [
       "<div>\n",
       "<style scoped>\n",
       "    .dataframe tbody tr th:only-of-type {\n",
       "        vertical-align: middle;\n",
       "    }\n",
       "\n",
       "    .dataframe tbody tr th {\n",
       "        vertical-align: top;\n",
       "    }\n",
       "\n",
       "    .dataframe thead th {\n",
       "        text-align: right;\n",
       "    }\n",
       "</style>\n",
       "<table border=\"1\" class=\"dataframe\">\n",
       "  <thead>\n",
       "    <tr style=\"text-align: right;\">\n",
       "      <th></th>\n",
       "      <th>Element</th>\n",
       "      <th>Item</th>\n",
       "      <th>Unit</th>\n",
       "    </tr>\n",
       "  </thead>\n",
       "  <tbody>\n",
       "    <tr>\n",
       "      <th>0</th>\n",
       "      <td>Agricultural Use</td>\n",
       "      <td>Pesticides (total)</td>\n",
       "      <td>t</td>\n",
       "    </tr>\n",
       "    <tr>\n",
       "      <th>1</th>\n",
       "      <td>Use per area of cropland</td>\n",
       "      <td>Pesticides (total)</td>\n",
       "      <td>kg/ha</td>\n",
       "    </tr>\n",
       "    <tr>\n",
       "      <th>2</th>\n",
       "      <td>Use per value of agricultural production</td>\n",
       "      <td>Pesticides (total)</td>\n",
       "      <td>g/Int$</td>\n",
       "    </tr>\n",
       "    <tr>\n",
       "      <th>79</th>\n",
       "      <td>Agricultural Use</td>\n",
       "      <td>Insecticides</td>\n",
       "      <td>t</td>\n",
       "    </tr>\n",
       "    <tr>\n",
       "      <th>106</th>\n",
       "      <td>Agricultural Use</td>\n",
       "      <td>Herbicides</td>\n",
       "      <td>t</td>\n",
       "    </tr>\n",
       "    <tr>\n",
       "      <th>133</th>\n",
       "      <td>Agricultural Use</td>\n",
       "      <td>Fungicides and Bactericides</td>\n",
       "      <td>t</td>\n",
       "    </tr>\n",
       "    <tr>\n",
       "      <th>160</th>\n",
       "      <td>Agricultural Use</td>\n",
       "      <td>Plant Growth Regulators</td>\n",
       "      <td>t</td>\n",
       "    </tr>\n",
       "    <tr>\n",
       "      <th>187</th>\n",
       "      <td>Agricultural Use</td>\n",
       "      <td>Rodenticides</td>\n",
       "      <td>t</td>\n",
       "    </tr>\n",
       "    <tr>\n",
       "      <th>214</th>\n",
       "      <td>Agricultural Use</td>\n",
       "      <td>Other Pesticides nes</td>\n",
       "      <td>t</td>\n",
       "    </tr>\n",
       "  </tbody>\n",
       "</table>\n",
       "</div>"
      ],
      "text/plain": [
       "                                      Element                         Item  \\\n",
       "0                            Agricultural Use           Pesticides (total)   \n",
       "1                    Use per area of cropland           Pesticides (total)   \n",
       "2    Use per value of agricultural production           Pesticides (total)   \n",
       "79                           Agricultural Use                 Insecticides   \n",
       "106                          Agricultural Use                   Herbicides   \n",
       "133                          Agricultural Use  Fungicides and Bactericides   \n",
       "160                          Agricultural Use      Plant Growth Regulators   \n",
       "187                          Agricultural Use                 Rodenticides   \n",
       "214                          Agricultural Use         Other Pesticides nes   \n",
       "\n",
       "       Unit  \n",
       "0         t  \n",
       "1     kg/ha  \n",
       "2    g/Int$  \n",
       "79        t  \n",
       "106       t  \n",
       "133       t  \n",
       "160       t  \n",
       "187       t  \n",
       "214       t  "
      ]
     },
     "execution_count": 5,
     "metadata": {},
     "output_type": "execute_result"
    }
   ],
   "source": [
    "# vemos los items disponibles y sus unidades de medida\n",
    "df_pesticides_by_type[['Element', 'Item','Unit']].drop_duplicates()"
   ]
  },
  {
   "cell_type": "code",
   "execution_count": 6,
   "id": "0f7fad9b",
   "metadata": {},
   "outputs": [],
   "source": [
    "df_area = df_pesticides_by_type.query(\"Element == 'Use per area of cropland' and Item == 'Pesticides (total)'\")"
   ]
  },
  {
   "cell_type": "markdown",
   "id": "a571a8cd",
   "metadata": {},
   "source": [
    "Armo una tabla con el Element 'Agricultural Use', elimino el item que engloba el total de pesticidas 'Pesticides (total)'. Hago un mapping para agrupar los pesticidas por categorias segun lo mencionado arriba en el analisis de esta base y finalmente pivoteo la tabla."
   ]
  },
  {
   "cell_type": "code",
   "execution_count": 7,
   "id": "f8ce3bbf",
   "metadata": {},
   "outputs": [],
   "source": [
    "df_tons = df_pesticides_by_type.query(\"Element == 'Agricultural Use'\")\n",
    "\n",
    "df_tons = df_tons[df_tons[\"Item\"] != \"Pesticides (total)\"].copy()\n",
    "\n",
    "_PEST_TYPE_MAP = {\n",
    "    \"Insecticides\": \"Insecticides\",\n",
    "    \"Herbicides\": \"Herbicides\",\n",
    "    \"Fungicides and Bactericides\": \"Fungicides_Bactericides\",\n",
    "    \"Plant Growth Regulators\": \"Other_Pesticides\",\n",
    "    \"Rodenticides\": \"Other_Pesticides\",\n",
    "    \"Other Pesticides nes\": \"Other_Pesticides\",\n",
    "}\n",
    "\n",
    "df_tons[\"pest_type\"] = df_tons[\"Item\"].map(_PEST_TYPE_MAP).fillna(\"Other_Pesticides\")\n",
    "\n",
    "grouped_tons = df_tons.groupby([\"Area\", \"Year\", \"pest_type\"], as_index=False)[\"Value\"].sum().rename(columns={\"Value\": \"tons\"})\n",
    "\n",
    "tons_pivot = grouped_tons.pivot_table(index=[\"Area\", \"Year\"], columns=\"pest_type\", values=\"tons\", aggfunc=\"sum\").reset_index().rename_axis(columns=None)"
   ]
  },
  {
   "cell_type": "code",
   "execution_count": 8,
   "id": "1f4f53b2",
   "metadata": {},
   "outputs": [
    {
     "data": {
      "text/html": [
       "<div>\n",
       "<style scoped>\n",
       "    .dataframe tbody tr th:only-of-type {\n",
       "        vertical-align: middle;\n",
       "    }\n",
       "\n",
       "    .dataframe tbody tr th {\n",
       "        vertical-align: top;\n",
       "    }\n",
       "\n",
       "    .dataframe thead th {\n",
       "        text-align: right;\n",
       "    }\n",
       "</style>\n",
       "<table border=\"1\" class=\"dataframe\">\n",
       "  <thead>\n",
       "    <tr style=\"text-align: right;\">\n",
       "      <th></th>\n",
       "      <th>Area</th>\n",
       "      <th>Year</th>\n",
       "      <th>Fungicides_Bactericides</th>\n",
       "      <th>Herbicides</th>\n",
       "      <th>Insecticides</th>\n",
       "      <th>Other_Pesticides</th>\n",
       "    </tr>\n",
       "  </thead>\n",
       "  <tbody>\n",
       "    <tr>\n",
       "      <th>0</th>\n",
       "      <td>Albania</td>\n",
       "      <td>1990</td>\n",
       "      <td>44.0</td>\n",
       "      <td>5.0</td>\n",
       "      <td>70.0</td>\n",
       "      <td>2.0</td>\n",
       "    </tr>\n",
       "    <tr>\n",
       "      <th>1</th>\n",
       "      <td>Albania</td>\n",
       "      <td>1991</td>\n",
       "      <td>44.0</td>\n",
       "      <td>5.0</td>\n",
       "      <td>70.0</td>\n",
       "      <td>2.0</td>\n",
       "    </tr>\n",
       "    <tr>\n",
       "      <th>2</th>\n",
       "      <td>Albania</td>\n",
       "      <td>1992</td>\n",
       "      <td>44.0</td>\n",
       "      <td>5.0</td>\n",
       "      <td>70.0</td>\n",
       "      <td>2.0</td>\n",
       "    </tr>\n",
       "  </tbody>\n",
       "</table>\n",
       "</div>"
      ],
      "text/plain": [
       "      Area  Year  Fungicides_Bactericides  Herbicides  Insecticides  \\\n",
       "0  Albania  1990                     44.0         5.0          70.0   \n",
       "1  Albania  1991                     44.0         5.0          70.0   \n",
       "2  Albania  1992                     44.0         5.0          70.0   \n",
       "\n",
       "   Other_Pesticides  \n",
       "0               2.0  \n",
       "1               2.0  \n",
       "2               2.0  "
      ]
     },
     "execution_count": 8,
     "metadata": {},
     "output_type": "execute_result"
    }
   ],
   "source": [
    "tons_pivot.head(3)"
   ]
  },
  {
   "cell_type": "markdown",
   "id": "89986006",
   "metadata": {},
   "source": [
    "Calculamos el total de pesticidas y convertimos cada categoria a shares (porcentajes sobre el total), para tener una señal de la mezcla química. La ventaja es que los shares son adimensionales ⇒ no dependen del área por país y evito una alta colinealidad. Finalmente elimino las columnas con valores absolutos de toneladas para mantener solo la señal de los shares + el total de tons en pesticidas."
   ]
  },
  {
   "cell_type": "code",
   "execution_count": 9,
   "id": "0d4dce48",
   "metadata": {},
   "outputs": [],
   "source": [
    "ton_cols = [c for c in tons_pivot.columns if c not in [\"Area\", \"Year\"]]\n",
    "tons_pivot[\"pest_total_tons\"] = tons_pivot[ton_cols].sum(axis=1)\n",
    "\n",
    "for col in ton_cols:\n",
    "    share_col = f\"share_{col.lower()}\"\n",
    "    tons_pivot[share_col] = tons_pivot[col] / tons_pivot[\"pest_total_tons\"]\n",
    "\n",
    "tons_pivot = tons_pivot.drop(columns=ton_cols)"
   ]
  },
  {
   "cell_type": "code",
   "execution_count": 10,
   "id": "2aecbc34",
   "metadata": {},
   "outputs": [
    {
     "data": {
      "text/html": [
       "<div>\n",
       "<style scoped>\n",
       "    .dataframe tbody tr th:only-of-type {\n",
       "        vertical-align: middle;\n",
       "    }\n",
       "\n",
       "    .dataframe tbody tr th {\n",
       "        vertical-align: top;\n",
       "    }\n",
       "\n",
       "    .dataframe thead th {\n",
       "        text-align: right;\n",
       "    }\n",
       "</style>\n",
       "<table border=\"1\" class=\"dataframe\">\n",
       "  <thead>\n",
       "    <tr style=\"text-align: right;\">\n",
       "      <th></th>\n",
       "      <th>Area</th>\n",
       "      <th>Year</th>\n",
       "      <th>pest_total_tons</th>\n",
       "      <th>share_fungicides_bactericides</th>\n",
       "      <th>share_herbicides</th>\n",
       "      <th>share_insecticides</th>\n",
       "      <th>share_other_pesticides</th>\n",
       "    </tr>\n",
       "  </thead>\n",
       "  <tbody>\n",
       "    <tr>\n",
       "      <th>0</th>\n",
       "      <td>Albania</td>\n",
       "      <td>1990</td>\n",
       "      <td>121.0</td>\n",
       "      <td>0.363636</td>\n",
       "      <td>0.041322</td>\n",
       "      <td>0.578512</td>\n",
       "      <td>0.016529</td>\n",
       "    </tr>\n",
       "    <tr>\n",
       "      <th>1</th>\n",
       "      <td>Albania</td>\n",
       "      <td>1991</td>\n",
       "      <td>121.0</td>\n",
       "      <td>0.363636</td>\n",
       "      <td>0.041322</td>\n",
       "      <td>0.578512</td>\n",
       "      <td>0.016529</td>\n",
       "    </tr>\n",
       "    <tr>\n",
       "      <th>2</th>\n",
       "      <td>Albania</td>\n",
       "      <td>1992</td>\n",
       "      <td>121.0</td>\n",
       "      <td>0.363636</td>\n",
       "      <td>0.041322</td>\n",
       "      <td>0.578512</td>\n",
       "      <td>0.016529</td>\n",
       "    </tr>\n",
       "  </tbody>\n",
       "</table>\n",
       "</div>"
      ],
      "text/plain": [
       "      Area  Year  pest_total_tons  share_fungicides_bactericides  \\\n",
       "0  Albania  1990            121.0                       0.363636   \n",
       "1  Albania  1991            121.0                       0.363636   \n",
       "2  Albania  1992            121.0                       0.363636   \n",
       "\n",
       "   share_herbicides  share_insecticides  share_other_pesticides  \n",
       "0          0.041322            0.578512                0.016529  \n",
       "1          0.041322            0.578512                0.016529  \n",
       "2          0.041322            0.578512                0.016529  "
      ]
     },
     "execution_count": 10,
     "metadata": {},
     "output_type": "execute_result"
    }
   ],
   "source": [
    "tons_pivot.head(3)"
   ]
  },
  {
   "cell_type": "code",
   "execution_count": 11,
   "id": "03c99ee3",
   "metadata": {},
   "outputs": [],
   "source": [
    "# junto las tablas\n",
    "pest_features = tons_pivot.merge(df_area[['Area','Year','Value']].rename(columns={'Value':'pest_total_kg_per_ha'}), on=['Area','Year'], how='left')"
   ]
  },
  {
   "cell_type": "code",
   "execution_count": 12,
   "id": "0f7a5e9e",
   "metadata": {},
   "outputs": [
    {
     "data": {
      "text/html": [
       "<div>\n",
       "<style scoped>\n",
       "    .dataframe tbody tr th:only-of-type {\n",
       "        vertical-align: middle;\n",
       "    }\n",
       "\n",
       "    .dataframe tbody tr th {\n",
       "        vertical-align: top;\n",
       "    }\n",
       "\n",
       "    .dataframe thead th {\n",
       "        text-align: right;\n",
       "    }\n",
       "</style>\n",
       "<table border=\"1\" class=\"dataframe\">\n",
       "  <thead>\n",
       "    <tr style=\"text-align: right;\">\n",
       "      <th></th>\n",
       "      <th>Area</th>\n",
       "      <th>Year</th>\n",
       "      <th>pest_total_tons</th>\n",
       "      <th>share_fungicides_bactericides</th>\n",
       "      <th>share_herbicides</th>\n",
       "      <th>share_insecticides</th>\n",
       "      <th>share_other_pesticides</th>\n",
       "      <th>pest_total_kg_per_ha</th>\n",
       "    </tr>\n",
       "  </thead>\n",
       "  <tbody>\n",
       "    <tr>\n",
       "      <th>0</th>\n",
       "      <td>Albania</td>\n",
       "      <td>1990</td>\n",
       "      <td>121.0</td>\n",
       "      <td>0.363636</td>\n",
       "      <td>0.041322</td>\n",
       "      <td>0.578512</td>\n",
       "      <td>0.016529</td>\n",
       "      <td>0.17</td>\n",
       "    </tr>\n",
       "    <tr>\n",
       "      <th>1</th>\n",
       "      <td>Albania</td>\n",
       "      <td>1991</td>\n",
       "      <td>121.0</td>\n",
       "      <td>0.363636</td>\n",
       "      <td>0.041322</td>\n",
       "      <td>0.578512</td>\n",
       "      <td>0.016529</td>\n",
       "      <td>0.17</td>\n",
       "    </tr>\n",
       "    <tr>\n",
       "      <th>2</th>\n",
       "      <td>Albania</td>\n",
       "      <td>1992</td>\n",
       "      <td>121.0</td>\n",
       "      <td>0.363636</td>\n",
       "      <td>0.041322</td>\n",
       "      <td>0.578512</td>\n",
       "      <td>0.016529</td>\n",
       "      <td>0.17</td>\n",
       "    </tr>\n",
       "  </tbody>\n",
       "</table>\n",
       "</div>"
      ],
      "text/plain": [
       "      Area  Year  pest_total_tons  share_fungicides_bactericides  \\\n",
       "0  Albania  1990            121.0                       0.363636   \n",
       "1  Albania  1991            121.0                       0.363636   \n",
       "2  Albania  1992            121.0                       0.363636   \n",
       "\n",
       "   share_herbicides  share_insecticides  share_other_pesticides  \\\n",
       "0          0.041322            0.578512                0.016529   \n",
       "1          0.041322            0.578512                0.016529   \n",
       "2          0.041322            0.578512                0.016529   \n",
       "\n",
       "   pest_total_kg_per_ha  \n",
       "0                  0.17  \n",
       "1                  0.17  \n",
       "2                  0.17  "
      ]
     },
     "execution_count": 12,
     "metadata": {},
     "output_type": "execute_result"
    }
   ],
   "source": [
    "pest_features.head(3)"
   ]
  },
  {
   "cell_type": "code",
   "execution_count": 13,
   "id": "b56cad18",
   "metadata": {},
   "outputs": [
    {
     "data": {
      "text/plain": [
       "Area                               0\n",
       "Year                               0\n",
       "pest_total_tons                    0\n",
       "share_fungicides_bactericides    123\n",
       "share_herbicides                 254\n",
       "share_insecticides                69\n",
       "share_other_pesticides           390\n",
       "pest_total_kg_per_ha             330\n",
       "dtype: int64"
      ]
     },
     "execution_count": 13,
     "metadata": {},
     "output_type": "execute_result"
    }
   ],
   "source": [
    "pest_features.isna().sum()"
   ]
  },
  {
   "cell_type": "markdown",
   "id": "81163da7",
   "metadata": {},
   "source": [
    "### Base de datos de fertilizantes"
   ]
  },
  {
   "cell_type": "markdown",
   "id": "06868a13",
   "metadata": {},
   "source": [
    "FAOSTAT ofrece estadísticas a nivel nacional sobre el uso agrícola de fertilizantes inorgánicos (minerales y químicos), desglosadas por nutriente y tipo.\n",
    "\n",
    "¿Qué insumos vale la pena modelar?\n",
    "\n",
    "Los tres Macronutrientes primarios de las plantas: \n",
    "* **Nitrógeno (N):** El N es el factor que más explica la variación de rinde: análisis muestran +50 % promedio con fertilización N. La Urea domina (>50 % del mercado mundial) pero otras fuentes difieren en eficiencia.\n",
    "* Incluye los items de: *Urea, Ammonia anhydrous, Ammonium nitrate (AN), Urea-Ammonium-Nitrate solutions (UAN), Calcium ammonium nitrate (CAN), Ammonium sulphate.*\n",
    "---\n",
    "* **Fósforo (P):** Las deficiencias de P retrasan emergencia y reducen biomasa; DAP/MAP concentran la mayoría del P aplicado globalmente. Los Superfosfatos siguen siendo clave en los países en desarrollo. \n",
    "* Incluye los items de: *Diammonium phosphate (DAP), Monoammonium phosphate (MAP), Superphosphates (>35 % y otros).*\n",
    "---\n",
    "* **Potasio (K):** MOP es la principal fuente (~90 % del K comercial). Los ensayos reportan ganancias de hasta +1.5 t / ha con K en densidades altas. El SOP importa si analizaramos como parte del dataset suelos salinos o cultivos premium, pero en el caso del maíz suele sustituirse por MOP. \n",
    "* Incluye los items de: *Potassium chloride (MOP), Potassium sulphate (SOP)*\n",
    "\n",
    "Que agrupamos en un bucket de “otros”?\n",
    "* **NPK, NK, NP, PK “otros compuestos”**: Ya expresan combinaciones de N, P, K.\n",
    "* **Sodium nitrate, Potassium nitrate**: Costosos y de uso marginal en maíz; la señal suele ser ruido.\n",
    "* **Other nitrogenous/phosphatic/potassic..**"
   ]
  },
  {
   "cell_type": "code",
   "execution_count": 14,
   "id": "1a4facf3",
   "metadata": {},
   "outputs": [],
   "source": [
    "# al igual que en la otra base, podriamos dejar el flag en un futuro\n",
    "df_fertilizers_by_type.drop(['Area Code (M49)', 'Item Code', 'Year Code', 'Flag', 'Flag Description'], axis=1, inplace=True)"
   ]
  },
  {
   "cell_type": "code",
   "execution_count": 15,
   "id": "cf42a1b8",
   "metadata": {},
   "outputs": [
    {
     "data": {
      "text/plain": [
       "array(['NPK fertilizers', 'Urea', 'Ammonium nitrate (AN)',\n",
       "       'Ammonium sulphate',\n",
       "       'Calcium ammonium nitrate (CAN) and other mixtures with calcium carbonate',\n",
       "       'Diammonium phosphate (DAP)', 'Monoammonium phosphate (MAP)',\n",
       "       'Other NP compounds', 'PK compounds',\n",
       "       'Potassium chloride (muriate of potash) (MOP)',\n",
       "       'Potassium nitrate',\n",
       "       'Potassium sulphate (sulphate of potash) (SOP)',\n",
       "       'Superphosphates above 35%', 'Superphosphates, other',\n",
       "       'Ammonia, anhydrous', 'Phosphate rock',\n",
       "       'Urea and ammonium nitrate solutions (UAN)',\n",
       "       'Other nitrogenous fertilizers, n.e.c.',\n",
       "       'Other phosphatic fertilizers, n.e.c.',\n",
       "       'Other potassic fertilizers, n.e.c.', 'Fertilizers n.e.c.',\n",
       "       'Other NK compounds', 'Sodium nitrate'], dtype=object)"
      ]
     },
     "execution_count": 15,
     "metadata": {},
     "output_type": "execute_result"
    }
   ],
   "source": [
    "# estos son todos los tipos de fertilizantes que hay en el dataset por ahora\n",
    "df_fertilizers_by_type.Item.unique()"
   ]
  },
  {
   "cell_type": "markdown",
   "id": "a691d0bb",
   "metadata": {},
   "source": [
    "### A continuacion describo la metodologia aplicada para la conversión de fertilizantes a nutrientes:\n",
    "\n",
    "- **Atribución de un único nutriente**  \n",
    "  - Cada producto se asigna **solo** a su nutriente agronómico dominante (N, P2O5 o K2O).  \n",
    "  - Formulaciones con doble contenido significativo (p. ej., DAP, MAP, KNO₃) se contabilizan únicamente en el nutriente listado.  \n",
    "  - Si en el futuro se requiere doble contabilización, basta duplicar la fila con el factor correspondiente a cada nutriente.\n",
    "\n",
    "- **Factores de conversión**  \n",
    "  - Factores estándar FAO/IFA (fracción en masa, kg nutriente / kg producto). Algunos ejemplos son:\n",
    "    - **Urea** = 0.46 kg N / kg  \n",
    "    - **DAP** = 0.46 kg P2O5 / kg  \n",
    "    - **MOP** = 0.60 kg K2O / kg  \n",
    "  - Conversión aplicada: ```tn_nutriente = toneladas_producto × factor```\n",
    "\n",
    "- **Tratamiento de factores desconocidos**  \n",
    "  - Ítems n.e.c. u otras categorías sin composición fiable se cargan con `factor = None`.  \n",
    "  - Resultado: `kg_nutriente = NaN`; a estos valores los vamos a imputar o descartar según la estrategia que deseemos aplicar luego.\n",
    "\n",
    "- **Ventajas del enfoque**  \n",
    "  - Pipeline más simple y sin colinealidad entre nutrientes.\n",
    "  - Facilita la interpretación de la influencia de **N_total**, **P2O5_total** y **K2O_total** sobre el rendimiento de maíz.\n",
    "\n",
    "- **Limitaciones**  \n",
    "  - No captura el aporte secundario de N en fosfatos amoniacales ni de K en nitrato potásico.\n",
    "  - Supone que el nutriente dominante explica la mayor parte del efecto agronómico.\n"
   ]
  },
  {
   "cell_type": "code",
   "execution_count": 16,
   "id": "2949f4f3",
   "metadata": {},
   "outputs": [],
   "source": [
    "# Mapping: Item → (nutrient, factor_kg_per_kg, source_tag)\n",
    "# por ahora no usamos el source_tag, pero lo dejamos para futuras implementaciones\n",
    "_FERT_MAP = {\n",
    "    # ------------ N ----------------------------------------------------\n",
    "    \"Urea\": (\"N\", 0.46, \"Urea\"),\n",
    "    \"Urea and ammonium nitrate solutions (UAN)\": (\"N\", 0.32, \"UAN\"),\n",
    "    \"Ammonia, anhydrous\": (\"N\", 0.82, \"Ammonia\"),\n",
    "    \"Ammonium nitrate (AN)\": (\"N\", 0.34, \"AN\"),\n",
    "    \"Ammonium sulphate\": (\"N\", 0.21, \"AS\"),\n",
    "    \"Calcium ammonium nitrate (CAN) and other mixtures with calcium carbonate\": (\"N\", 0.27, \"CAN\"),\n",
    "    \"Potassium nitrate\": (\"N\", 0.137, \"KNO3\"),         # 13.7 % N   (tambien 46 % K2O)\n",
    "    \"Sodium nitrate\": (\"N\", 0.16, \"NaNO3\"),\n",
    "    \"Other nitrogenous fertilizers, n.e.c.\": (\"N\", None, \"Other_N\"),\n",
    "\n",
    "    # ------------ P ----------------------------------------------------\n",
    "    \"Diammonium phosphate (DAP)\": (\"P2O5\", 0.46, \"DAP\"),   # ignoramos 18 % N\n",
    "    \"Monoammonium phosphate (MAP)\": (\"P2O5\", 0.52, \"MAP\"), # ignoramos 11 % N\n",
    "    \"Superphosphates above 35%\": (\"P2O5\", 0.46, \"SP\"),\n",
    "    \"Superphosphates, other\": (\"P2O5\", 0.18, \"SP_other\"),\n",
    "    \"Phosphate rock\": (\"P2O5\", 0.30, \"PhosRock\"),\n",
    "    \"Other phosphatic fertilizers, n.e.c.\": (\"P2O5\", None, \"Other_P\"),\n",
    "\n",
    "    # ------------ K ----------------------------------------------------\n",
    "    \"Potassium chloride (muriate of potash) (MOP)\": (\"K2O\", 0.60, \"MOP\"),\n",
    "    \"Potassium sulphate (sulphate of potash) (SOP)\": (\"K2O\", 0.50, \"SOP\"),\n",
    "    \"Potassium nitrate\": (\"K2O\", 0.46, \"KNO3\"),        # se repite con K2O, la parte de arriba era para N\n",
    "    \"Other potassic fertilizers, n.e.c.\": (\"K2O\", None, \"Other_K\"),\n",
    "\n",
    "    # dejamos estos para futuras implementaciones, ya que por ahora no conocemos el tipo de fertilizante y/o factor_kg_per_kg\n",
    "    # ------------ COMPOSITES & MISC -------------------------------------------\n",
    "    # \"NPK fertilizers\": (\"Composite\", None, \"Compound\"),\n",
    "    # \"Other NP compounds\": (\"Composite\", None, \"Compound\"),\n",
    "    # \"PK compounds\": (\"Composite\", None, \"Compound\"),\n",
    "    # \"Other NK compounds\": (\"Composite\", None, \"Compound\"),\n",
    "    # \"Fertilizers n.e.c.\": (\"Composite\", None, \"Other_Compound\"),\n",
    "}\n",
    "\n",
    "_VALID_ITEMS = set(_FERT_MAP)\n",
    "_UREA_TAG = \"Urea\""
   ]
  },
  {
   "cell_type": "code",
   "execution_count": 17,
   "id": "0ce2e691",
   "metadata": {},
   "outputs": [],
   "source": [
    "# dejamos solo los items que estan en el mapping y aplicamos la conversion de kg a nutrientes\n",
    "df_fert = df_fertilizers_by_type[df_fertilizers_by_type[\"Item\"].isin(_VALID_ITEMS)].copy()\n",
    "\n",
    "df_fert[[\"nutrient\", \"factor\", \"source\"]] = df_fert[\"Item\"].apply(lambda x: pd.Series(_FERT_MAP[x]))\n",
    "\n",
    "df_fert[\"tn_nutrient\"] = df_fert[\"Value\"] * df_fert[\"factor\"]"
   ]
  },
  {
   "cell_type": "code",
   "execution_count": 18,
   "id": "f0a10e06",
   "metadata": {},
   "outputs": [
    {
     "data": {
      "text/html": [
       "<div>\n",
       "<style scoped>\n",
       "    .dataframe tbody tr th:only-of-type {\n",
       "        vertical-align: middle;\n",
       "    }\n",
       "\n",
       "    .dataframe tbody tr th {\n",
       "        vertical-align: top;\n",
       "    }\n",
       "\n",
       "    .dataframe thead th {\n",
       "        text-align: right;\n",
       "    }\n",
       "</style>\n",
       "<table border=\"1\" class=\"dataframe\">\n",
       "  <thead>\n",
       "    <tr style=\"text-align: right;\">\n",
       "      <th></th>\n",
       "      <th>Area</th>\n",
       "      <th>Item</th>\n",
       "      <th>Year</th>\n",
       "      <th>Value</th>\n",
       "      <th>nutrient</th>\n",
       "      <th>factor</th>\n",
       "      <th>source</th>\n",
       "      <th>tn_nutrient</th>\n",
       "    </tr>\n",
       "  </thead>\n",
       "  <tbody>\n",
       "    <tr>\n",
       "      <th>3</th>\n",
       "      <td>Afghanistan</td>\n",
       "      <td>Urea</td>\n",
       "      <td>2004</td>\n",
       "      <td>42300</td>\n",
       "      <td>N</td>\n",
       "      <td>0.46</td>\n",
       "      <td>Urea</td>\n",
       "      <td>19458.00</td>\n",
       "    </tr>\n",
       "    <tr>\n",
       "      <th>4</th>\n",
       "      <td>Afghanistan</td>\n",
       "      <td>Urea</td>\n",
       "      <td>2005</td>\n",
       "      <td>20577</td>\n",
       "      <td>N</td>\n",
       "      <td>0.46</td>\n",
       "      <td>Urea</td>\n",
       "      <td>9465.42</td>\n",
       "    </tr>\n",
       "    <tr>\n",
       "      <th>5</th>\n",
       "      <td>Afghanistan</td>\n",
       "      <td>Urea</td>\n",
       "      <td>2006</td>\n",
       "      <td>68253</td>\n",
       "      <td>N</td>\n",
       "      <td>0.46</td>\n",
       "      <td>Urea</td>\n",
       "      <td>31396.38</td>\n",
       "    </tr>\n",
       "  </tbody>\n",
       "</table>\n",
       "</div>"
      ],
      "text/plain": [
       "          Area  Item  Year  Value nutrient  factor source  tn_nutrient\n",
       "3  Afghanistan  Urea  2004  42300        N    0.46   Urea     19458.00\n",
       "4  Afghanistan  Urea  2005  20577        N    0.46   Urea      9465.42\n",
       "5  Afghanistan  Urea  2006  68253        N    0.46   Urea     31396.38"
      ]
     },
     "execution_count": 18,
     "metadata": {},
     "output_type": "execute_result"
    }
   ],
   "source": [
    "df_fert.head(3)"
   ]
  },
  {
   "cell_type": "code",
   "execution_count": 19,
   "id": "5615142c",
   "metadata": {},
   "outputs": [],
   "source": [
    "# calculamos los totales de nutrientes\n",
    "totals = (df_fert.pivot_table(index=[\"Area\", \"Year\"], columns=\"nutrient\", values=\"tn_nutrient\", aggfunc=\"sum\")\n",
    ".rename_axis(columns=None).rename(columns={\"N\": \"N_tons\", \"P2O5\": \"P2O5_tons\", \"K2O\": \"K2O_tons\"}).reset_index())"
   ]
  },
  {
   "cell_type": "code",
   "execution_count": 20,
   "id": "6f217f5f",
   "metadata": {},
   "outputs": [
    {
     "data": {
      "text/html": [
       "<div>\n",
       "<style scoped>\n",
       "    .dataframe tbody tr th:only-of-type {\n",
       "        vertical-align: middle;\n",
       "    }\n",
       "\n",
       "    .dataframe tbody tr th {\n",
       "        vertical-align: top;\n",
       "    }\n",
       "\n",
       "    .dataframe thead th {\n",
       "        text-align: right;\n",
       "    }\n",
       "</style>\n",
       "<table border=\"1\" class=\"dataframe\">\n",
       "  <thead>\n",
       "    <tr style=\"text-align: right;\">\n",
       "      <th></th>\n",
       "      <th>Area</th>\n",
       "      <th>Year</th>\n",
       "      <th>K2O_tons</th>\n",
       "      <th>N_tons</th>\n",
       "      <th>P2O5_tons</th>\n",
       "    </tr>\n",
       "  </thead>\n",
       "  <tbody>\n",
       "    <tr>\n",
       "      <th>0</th>\n",
       "      <td>Afghanistan</td>\n",
       "      <td>2004</td>\n",
       "      <td>NaN</td>\n",
       "      <td>19458.00</td>\n",
       "      <td>NaN</td>\n",
       "    </tr>\n",
       "    <tr>\n",
       "      <th>1</th>\n",
       "      <td>Afghanistan</td>\n",
       "      <td>2005</td>\n",
       "      <td>NaN</td>\n",
       "      <td>9465.42</td>\n",
       "      <td>NaN</td>\n",
       "    </tr>\n",
       "    <tr>\n",
       "      <th>2</th>\n",
       "      <td>Afghanistan</td>\n",
       "      <td>2006</td>\n",
       "      <td>NaN</td>\n",
       "      <td>31396.38</td>\n",
       "      <td>NaN</td>\n",
       "    </tr>\n",
       "  </tbody>\n",
       "</table>\n",
       "</div>"
      ],
      "text/plain": [
       "          Area  Year  K2O_tons    N_tons  P2O5_tons\n",
       "0  Afghanistan  2004       NaN  19458.00        NaN\n",
       "1  Afghanistan  2005       NaN   9465.42        NaN\n",
       "2  Afghanistan  2006       NaN  31396.38        NaN"
      ]
     },
     "execution_count": 20,
     "metadata": {},
     "output_type": "execute_result"
    }
   ],
   "source": [
    "totals.head(3)"
   ]
  },
  {
   "cell_type": "code",
   "execution_count": 21,
   "id": "34463f3a",
   "metadata": {},
   "outputs": [
    {
     "data": {
      "text/plain": [
       "Area           0\n",
       "Year           0\n",
       "K2O_tons     293\n",
       "N_tons       110\n",
       "P2O5_tons    248\n",
       "dtype: int64"
      ]
     },
     "execution_count": 21,
     "metadata": {},
     "output_type": "execute_result"
    }
   ],
   "source": [
    "totals.isna().sum()"
   ]
  },
  {
   "cell_type": "code",
   "execution_count": 22,
   "id": "a20c2dfa",
   "metadata": {},
   "outputs": [],
   "source": [
    "# creo dos DFs para calcular el total de N y la proporcion de Urea. Construyo el share de Urea y dejo los valores inf como nan, ya que corresponden\n",
    "# a valores que no existen.\n",
    "n_mask = (df_fert[\"nutrient\"] == \"N\")\n",
    "urea_mask = n_mask & (df_fert[\"source\"] == _UREA_TAG)\n",
    "\n",
    "tn_n_total = df_fert.loc[n_mask].groupby([\"Area\", \"Year\"], sort=False)[\"tn_nutrient\"].sum()\n",
    "\n",
    "tn_urea = df_fert.loc[urea_mask].groupby([\"Area\", \"Year\"], sort=False)[\"tn_nutrient\"].sum().reindex(tn_n_total.index, fill_value=0.0)\n",
    "\n",
    "share_urea = (tn_urea / tn_n_total).rename(\"share_urea\").reset_index().replace([np.inf, -np.inf], np.nan)\n"
   ]
  },
  {
   "cell_type": "code",
   "execution_count": 23,
   "id": "005b72ab",
   "metadata": {},
   "outputs": [
    {
     "data": {
      "text/html": [
       "<div>\n",
       "<style scoped>\n",
       "    .dataframe tbody tr th:only-of-type {\n",
       "        vertical-align: middle;\n",
       "    }\n",
       "\n",
       "    .dataframe tbody tr th {\n",
       "        vertical-align: top;\n",
       "    }\n",
       "\n",
       "    .dataframe thead th {\n",
       "        text-align: right;\n",
       "    }\n",
       "</style>\n",
       "<table border=\"1\" class=\"dataframe\">\n",
       "  <thead>\n",
       "    <tr style=\"text-align: right;\">\n",
       "      <th></th>\n",
       "      <th>Area</th>\n",
       "      <th>Year</th>\n",
       "      <th>share_urea</th>\n",
       "    </tr>\n",
       "  </thead>\n",
       "  <tbody>\n",
       "    <tr>\n",
       "      <th>0</th>\n",
       "      <td>Afghanistan</td>\n",
       "      <td>2004</td>\n",
       "      <td>1.0</td>\n",
       "    </tr>\n",
       "    <tr>\n",
       "      <th>1</th>\n",
       "      <td>Afghanistan</td>\n",
       "      <td>2005</td>\n",
       "      <td>1.0</td>\n",
       "    </tr>\n",
       "    <tr>\n",
       "      <th>2</th>\n",
       "      <td>Afghanistan</td>\n",
       "      <td>2006</td>\n",
       "      <td>1.0</td>\n",
       "    </tr>\n",
       "  </tbody>\n",
       "</table>\n",
       "</div>"
      ],
      "text/plain": [
       "          Area  Year  share_urea\n",
       "0  Afghanistan  2004         1.0\n",
       "1  Afghanistan  2005         1.0\n",
       "2  Afghanistan  2006         1.0"
      ]
     },
     "execution_count": 23,
     "metadata": {},
     "output_type": "execute_result"
    }
   ],
   "source": [
    "share_urea.head(3)"
   ]
  },
  {
   "cell_type": "code",
   "execution_count": 24,
   "id": "592e7957",
   "metadata": {},
   "outputs": [
    {
     "data": {
      "text/plain": [
       "Area           0\n",
       "Year           0\n",
       "share_urea    17\n",
       "dtype: int64"
      ]
     },
     "execution_count": 24,
     "metadata": {},
     "output_type": "execute_result"
    }
   ],
   "source": [
    "share_urea.isna().sum()"
   ]
  },
  {
   "cell_type": "code",
   "execution_count": 25,
   "id": "ee271981",
   "metadata": {},
   "outputs": [],
   "source": [
    "# combinamos los totales con el share de Urea\n",
    "fert_features = totals.merge(share_urea, how=\"left\", on=[\"Area\", \"Year\"])"
   ]
  },
  {
   "cell_type": "code",
   "execution_count": 26,
   "id": "ae7054b9",
   "metadata": {},
   "outputs": [
    {
     "data": {
      "text/html": [
       "<div>\n",
       "<style scoped>\n",
       "    .dataframe tbody tr th:only-of-type {\n",
       "        vertical-align: middle;\n",
       "    }\n",
       "\n",
       "    .dataframe tbody tr th {\n",
       "        vertical-align: top;\n",
       "    }\n",
       "\n",
       "    .dataframe thead th {\n",
       "        text-align: right;\n",
       "    }\n",
       "</style>\n",
       "<table border=\"1\" class=\"dataframe\">\n",
       "  <thead>\n",
       "    <tr style=\"text-align: right;\">\n",
       "      <th></th>\n",
       "      <th>Area</th>\n",
       "      <th>Year</th>\n",
       "      <th>K2O_tons</th>\n",
       "      <th>N_tons</th>\n",
       "      <th>P2O5_tons</th>\n",
       "      <th>share_urea</th>\n",
       "    </tr>\n",
       "  </thead>\n",
       "  <tbody>\n",
       "    <tr>\n",
       "      <th>0</th>\n",
       "      <td>Afghanistan</td>\n",
       "      <td>2004</td>\n",
       "      <td>NaN</td>\n",
       "      <td>19458.00</td>\n",
       "      <td>NaN</td>\n",
       "      <td>1.0</td>\n",
       "    </tr>\n",
       "    <tr>\n",
       "      <th>1</th>\n",
       "      <td>Afghanistan</td>\n",
       "      <td>2005</td>\n",
       "      <td>NaN</td>\n",
       "      <td>9465.42</td>\n",
       "      <td>NaN</td>\n",
       "      <td>1.0</td>\n",
       "    </tr>\n",
       "    <tr>\n",
       "      <th>2</th>\n",
       "      <td>Afghanistan</td>\n",
       "      <td>2006</td>\n",
       "      <td>NaN</td>\n",
       "      <td>31396.38</td>\n",
       "      <td>NaN</td>\n",
       "      <td>1.0</td>\n",
       "    </tr>\n",
       "  </tbody>\n",
       "</table>\n",
       "</div>"
      ],
      "text/plain": [
       "          Area  Year  K2O_tons    N_tons  P2O5_tons  share_urea\n",
       "0  Afghanistan  2004       NaN  19458.00        NaN         1.0\n",
       "1  Afghanistan  2005       NaN   9465.42        NaN         1.0\n",
       "2  Afghanistan  2006       NaN  31396.38        NaN         1.0"
      ]
     },
     "execution_count": 26,
     "metadata": {},
     "output_type": "execute_result"
    }
   ],
   "source": [
    "fert_features.head(3)"
   ]
  },
  {
   "cell_type": "code",
   "execution_count": 27,
   "id": "e552b77e",
   "metadata": {},
   "outputs": [
    {
     "name": "stdout",
     "output_type": "stream",
     "text": [
      "Area          0.000000\n",
      "Year          0.000000\n",
      "K2O_tons      0.186150\n",
      "N_tons        0.069886\n",
      "P2O5_tons     0.157560\n",
      "share_urea    0.080686\n",
      "dtype: float64\n",
      "Area            0\n",
      "Year            0\n",
      "K2O_tons      293\n",
      "N_tons        110\n",
      "P2O5_tons     248\n",
      "share_urea    127\n",
      "dtype: int64\n"
     ]
    }
   ],
   "source": [
    "print(fert_features.isna().mean())\n",
    "print(fert_features.isna().sum())"
   ]
  },
  {
   "cell_type": "markdown",
   "id": "3ef7ab9a",
   "metadata": {},
   "source": [
    "### Estandarizamos los nombres de las columnas"
   ]
  },
  {
   "cell_type": "code",
   "execution_count": 28,
   "id": "da738407",
   "metadata": {},
   "outputs": [
    {
     "name": "stdout",
     "output_type": "stream",
     "text": [
      "Estandarizamos las columnas de todos los dataframes\n"
     ]
    }
   ],
   "source": [
    "def standardize_column_names(df):\n",
    "    \"\"\"Estandariza nombres de columnas: minúsculas, sin espacios extra, _ entre palabras\"\"\"\n",
    "    df.columns = df.columns.str.lower().str.strip().str.replace(' ', '_')\n",
    "    df = df.rename(columns={'area':'country'})\n",
    "    return df\n",
    "\n",
    "df_yield = standardize_column_names(df_yield)\n",
    "df_temp = standardize_column_names(df_temp)\n",
    "df_rainfall = standardize_column_names(df_rainfall)\n",
    "pest_features = standardize_column_names(pest_features)\n",
    "fert_features = standardize_column_names(fert_features)\n",
    "\n",
    "print(\"Estandarizamos las columnas de todos los dataframes\")\n"
   ]
  },
  {
   "cell_type": "code",
   "execution_count": 29,
   "id": "19eeab73",
   "metadata": {},
   "outputs": [
    {
     "data": {
      "text/plain": [
       "array(['Maize', 'Potatoes', 'Rice, paddy', 'Wheat', 'Sorghum', 'Soybeans',\n",
       "       'Cassava', 'Yams', 'Sweet potatoes', 'Plantains and others'],\n",
       "      dtype=object)"
      ]
     },
     "execution_count": 29,
     "metadata": {},
     "output_type": "execute_result"
    }
   ],
   "source": [
    "df_yield.item.unique()"
   ]
  },
  {
   "cell_type": "markdown",
   "id": "79a37161",
   "metadata": {},
   "source": [
    "Dejamos solo el cultivo de maíz que nos interesa estimar"
   ]
  },
  {
   "cell_type": "code",
   "execution_count": 30,
   "id": "4981d035",
   "metadata": {},
   "outputs": [],
   "source": [
    "df_yield_maize = df_yield[df_yield.item == 'Maize'].drop('item', axis=1)"
   ]
  },
  {
   "cell_type": "markdown",
   "id": "90b838e1",
   "metadata": {},
   "source": [
    "Visualizamos los datasets iterativamente"
   ]
  },
  {
   "cell_type": "code",
   "execution_count": 31,
   "id": "cb0c3c8b",
   "metadata": {},
   "outputs": [
    {
     "data": {
      "text/html": [
       "<div>\n",
       "<style scoped>\n",
       "    .dataframe tbody tr th:only-of-type {\n",
       "        vertical-align: middle;\n",
       "    }\n",
       "\n",
       "    .dataframe tbody tr th {\n",
       "        vertical-align: top;\n",
       "    }\n",
       "\n",
       "    .dataframe thead th {\n",
       "        text-align: right;\n",
       "    }\n",
       "</style>\n",
       "<table border=\"1\" class=\"dataframe\">\n",
       "  <thead>\n",
       "    <tr style=\"text-align: right;\">\n",
       "      <th></th>\n",
       "      <th>area_code</th>\n",
       "      <th>country</th>\n",
       "      <th>item_code</th>\n",
       "      <th>year_code</th>\n",
       "      <th>year</th>\n",
       "      <th>value</th>\n",
       "    </tr>\n",
       "  </thead>\n",
       "  <tbody>\n",
       "    <tr>\n",
       "      <th>0</th>\n",
       "      <td>2</td>\n",
       "      <td>Afghanistan</td>\n",
       "      <td>56</td>\n",
       "      <td>1961</td>\n",
       "      <td>1961</td>\n",
       "      <td>14000</td>\n",
       "    </tr>\n",
       "    <tr>\n",
       "      <th>1</th>\n",
       "      <td>2</td>\n",
       "      <td>Afghanistan</td>\n",
       "      <td>56</td>\n",
       "      <td>1962</td>\n",
       "      <td>1962</td>\n",
       "      <td>14000</td>\n",
       "    </tr>\n",
       "    <tr>\n",
       "      <th>2</th>\n",
       "      <td>2</td>\n",
       "      <td>Afghanistan</td>\n",
       "      <td>56</td>\n",
       "      <td>1963</td>\n",
       "      <td>1963</td>\n",
       "      <td>14260</td>\n",
       "    </tr>\n",
       "  </tbody>\n",
       "</table>\n",
       "</div>"
      ],
      "text/plain": [
       "   area_code      country  item_code  year_code  year  value\n",
       "0          2  Afghanistan         56       1961  1961  14000\n",
       "1          2  Afghanistan         56       1962  1962  14000\n",
       "2          2  Afghanistan         56       1963  1963  14260"
      ]
     },
     "metadata": {},
     "output_type": "display_data"
    },
    {
     "name": "stdout",
     "output_type": "stream",
     "text": [
      "<class 'pandas.core.frame.DataFrame'>\n",
      "Index: 8631 entries, 0 to 56380\n",
      "Data columns (total 6 columns):\n",
      " #   Column     Non-Null Count  Dtype \n",
      "---  ------     --------------  ----- \n",
      " 0   area_code  8631 non-null   int64 \n",
      " 1   country    8631 non-null   object\n",
      " 2   item_code  8631 non-null   int64 \n",
      " 3   year_code  8631 non-null   int64 \n",
      " 4   year       8631 non-null   int64 \n",
      " 5   value      8631 non-null   int64 \n",
      "dtypes: int64(5), object(1)\n",
      "memory usage: 472.0+ KB\n"
     ]
    },
    {
     "data": {
      "text/plain": [
       "None"
      ]
     },
     "metadata": {},
     "output_type": "display_data"
    },
    {
     "data": {
      "text/html": [
       "<div>\n",
       "<style scoped>\n",
       "    .dataframe tbody tr th:only-of-type {\n",
       "        vertical-align: middle;\n",
       "    }\n",
       "\n",
       "    .dataframe tbody tr th {\n",
       "        vertical-align: top;\n",
       "    }\n",
       "\n",
       "    .dataframe thead th {\n",
       "        text-align: right;\n",
       "    }\n",
       "</style>\n",
       "<table border=\"1\" class=\"dataframe\">\n",
       "  <thead>\n",
       "    <tr style=\"text-align: right;\">\n",
       "      <th></th>\n",
       "      <th>year</th>\n",
       "      <th>country</th>\n",
       "      <th>avg_temp</th>\n",
       "    </tr>\n",
       "  </thead>\n",
       "  <tbody>\n",
       "    <tr>\n",
       "      <th>0</th>\n",
       "      <td>1849</td>\n",
       "      <td>Côte D'Ivoire</td>\n",
       "      <td>25.58</td>\n",
       "    </tr>\n",
       "    <tr>\n",
       "      <th>1</th>\n",
       "      <td>1850</td>\n",
       "      <td>Côte D'Ivoire</td>\n",
       "      <td>25.52</td>\n",
       "    </tr>\n",
       "    <tr>\n",
       "      <th>2</th>\n",
       "      <td>1851</td>\n",
       "      <td>Côte D'Ivoire</td>\n",
       "      <td>25.67</td>\n",
       "    </tr>\n",
       "  </tbody>\n",
       "</table>\n",
       "</div>"
      ],
      "text/plain": [
       "   year        country  avg_temp\n",
       "0  1849  Côte D'Ivoire     25.58\n",
       "1  1850  Côte D'Ivoire     25.52\n",
       "2  1851  Côte D'Ivoire     25.67"
      ]
     },
     "metadata": {},
     "output_type": "display_data"
    },
    {
     "name": "stdout",
     "output_type": "stream",
     "text": [
      "<class 'pandas.core.frame.DataFrame'>\n",
      "RangeIndex: 71311 entries, 0 to 71310\n",
      "Data columns (total 3 columns):\n",
      " #   Column    Non-Null Count  Dtype  \n",
      "---  ------    --------------  -----  \n",
      " 0   year      71311 non-null  int64  \n",
      " 1   country   71311 non-null  object \n",
      " 2   avg_temp  68764 non-null  float64\n",
      "dtypes: float64(1), int64(1), object(1)\n",
      "memory usage: 1.6+ MB\n"
     ]
    },
    {
     "data": {
      "text/plain": [
       "None"
      ]
     },
     "metadata": {},
     "output_type": "display_data"
    },
    {
     "data": {
      "text/html": [
       "<div>\n",
       "<style scoped>\n",
       "    .dataframe tbody tr th:only-of-type {\n",
       "        vertical-align: middle;\n",
       "    }\n",
       "\n",
       "    .dataframe tbody tr th {\n",
       "        vertical-align: top;\n",
       "    }\n",
       "\n",
       "    .dataframe thead th {\n",
       "        text-align: right;\n",
       "    }\n",
       "</style>\n",
       "<table border=\"1\" class=\"dataframe\">\n",
       "  <thead>\n",
       "    <tr style=\"text-align: right;\">\n",
       "      <th></th>\n",
       "      <th>country</th>\n",
       "      <th>year</th>\n",
       "      <th>average_rain_fall_mm_per_year</th>\n",
       "    </tr>\n",
       "  </thead>\n",
       "  <tbody>\n",
       "    <tr>\n",
       "      <th>0</th>\n",
       "      <td>Afghanistan</td>\n",
       "      <td>1985</td>\n",
       "      <td>327</td>\n",
       "    </tr>\n",
       "    <tr>\n",
       "      <th>1</th>\n",
       "      <td>Afghanistan</td>\n",
       "      <td>1986</td>\n",
       "      <td>327</td>\n",
       "    </tr>\n",
       "    <tr>\n",
       "      <th>2</th>\n",
       "      <td>Afghanistan</td>\n",
       "      <td>1987</td>\n",
       "      <td>327</td>\n",
       "    </tr>\n",
       "  </tbody>\n",
       "</table>\n",
       "</div>"
      ],
      "text/plain": [
       "       country  year average_rain_fall_mm_per_year\n",
       "0  Afghanistan  1985                           327\n",
       "1  Afghanistan  1986                           327\n",
       "2  Afghanistan  1987                           327"
      ]
     },
     "metadata": {},
     "output_type": "display_data"
    },
    {
     "name": "stdout",
     "output_type": "stream",
     "text": [
      "<class 'pandas.core.frame.DataFrame'>\n",
      "RangeIndex: 6727 entries, 0 to 6726\n",
      "Data columns (total 3 columns):\n",
      " #   Column                         Non-Null Count  Dtype \n",
      "---  ------                         --------------  ----- \n",
      " 0   country                        6727 non-null   object\n",
      " 1   year                           6727 non-null   int64 \n",
      " 2   average_rain_fall_mm_per_year  5953 non-null   object\n",
      "dtypes: int64(1), object(2)\n",
      "memory usage: 157.8+ KB\n"
     ]
    },
    {
     "data": {
      "text/plain": [
       "None"
      ]
     },
     "metadata": {},
     "output_type": "display_data"
    },
    {
     "data": {
      "text/html": [
       "<div>\n",
       "<style scoped>\n",
       "    .dataframe tbody tr th:only-of-type {\n",
       "        vertical-align: middle;\n",
       "    }\n",
       "\n",
       "    .dataframe tbody tr th {\n",
       "        vertical-align: top;\n",
       "    }\n",
       "\n",
       "    .dataframe thead th {\n",
       "        text-align: right;\n",
       "    }\n",
       "</style>\n",
       "<table border=\"1\" class=\"dataframe\">\n",
       "  <thead>\n",
       "    <tr style=\"text-align: right;\">\n",
       "      <th></th>\n",
       "      <th>country</th>\n",
       "      <th>year</th>\n",
       "      <th>pest_total_tons</th>\n",
       "      <th>share_fungicides_bactericides</th>\n",
       "      <th>share_herbicides</th>\n",
       "      <th>share_insecticides</th>\n",
       "      <th>share_other_pesticides</th>\n",
       "      <th>pest_total_kg_per_ha</th>\n",
       "    </tr>\n",
       "  </thead>\n",
       "  <tbody>\n",
       "    <tr>\n",
       "      <th>0</th>\n",
       "      <td>Albania</td>\n",
       "      <td>1990</td>\n",
       "      <td>121.0</td>\n",
       "      <td>0.363636</td>\n",
       "      <td>0.041322</td>\n",
       "      <td>0.578512</td>\n",
       "      <td>0.016529</td>\n",
       "      <td>0.17</td>\n",
       "    </tr>\n",
       "    <tr>\n",
       "      <th>1</th>\n",
       "      <td>Albania</td>\n",
       "      <td>1991</td>\n",
       "      <td>121.0</td>\n",
       "      <td>0.363636</td>\n",
       "      <td>0.041322</td>\n",
       "      <td>0.578512</td>\n",
       "      <td>0.016529</td>\n",
       "      <td>0.17</td>\n",
       "    </tr>\n",
       "    <tr>\n",
       "      <th>2</th>\n",
       "      <td>Albania</td>\n",
       "      <td>1992</td>\n",
       "      <td>121.0</td>\n",
       "      <td>0.363636</td>\n",
       "      <td>0.041322</td>\n",
       "      <td>0.578512</td>\n",
       "      <td>0.016529</td>\n",
       "      <td>0.17</td>\n",
       "    </tr>\n",
       "  </tbody>\n",
       "</table>\n",
       "</div>"
      ],
      "text/plain": [
       "   country  year  pest_total_tons  share_fungicides_bactericides  \\\n",
       "0  Albania  1990            121.0                       0.363636   \n",
       "1  Albania  1991            121.0                       0.363636   \n",
       "2  Albania  1992            121.0                       0.363636   \n",
       "\n",
       "   share_herbicides  share_insecticides  share_other_pesticides  \\\n",
       "0          0.041322            0.578512                0.016529   \n",
       "1          0.041322            0.578512                0.016529   \n",
       "2          0.041322            0.578512                0.016529   \n",
       "\n",
       "   pest_total_kg_per_ha  \n",
       "0                  0.17  \n",
       "1                  0.17  \n",
       "2                  0.17  "
      ]
     },
     "metadata": {},
     "output_type": "display_data"
    },
    {
     "name": "stdout",
     "output_type": "stream",
     "text": [
      "<class 'pandas.core.frame.DataFrame'>\n",
      "RangeIndex: 5629 entries, 0 to 5628\n",
      "Data columns (total 8 columns):\n",
      " #   Column                         Non-Null Count  Dtype  \n",
      "---  ------                         --------------  -----  \n",
      " 0   country                        5629 non-null   object \n",
      " 1   year                           5629 non-null   int64  \n",
      " 2   pest_total_tons                5629 non-null   float64\n",
      " 3   share_fungicides_bactericides  5506 non-null   float64\n",
      " 4   share_herbicides               5375 non-null   float64\n",
      " 5   share_insecticides             5560 non-null   float64\n",
      " 6   share_other_pesticides         5239 non-null   float64\n",
      " 7   pest_total_kg_per_ha           5299 non-null   float64\n",
      "dtypes: float64(6), int64(1), object(1)\n",
      "memory usage: 351.9+ KB\n"
     ]
    },
    {
     "data": {
      "text/plain": [
       "None"
      ]
     },
     "metadata": {},
     "output_type": "display_data"
    },
    {
     "data": {
      "text/html": [
       "<div>\n",
       "<style scoped>\n",
       "    .dataframe tbody tr th:only-of-type {\n",
       "        vertical-align: middle;\n",
       "    }\n",
       "\n",
       "    .dataframe tbody tr th {\n",
       "        vertical-align: top;\n",
       "    }\n",
       "\n",
       "    .dataframe thead th {\n",
       "        text-align: right;\n",
       "    }\n",
       "</style>\n",
       "<table border=\"1\" class=\"dataframe\">\n",
       "  <thead>\n",
       "    <tr style=\"text-align: right;\">\n",
       "      <th></th>\n",
       "      <th>country</th>\n",
       "      <th>year</th>\n",
       "      <th>k2o_tons</th>\n",
       "      <th>n_tons</th>\n",
       "      <th>p2o5_tons</th>\n",
       "      <th>share_urea</th>\n",
       "    </tr>\n",
       "  </thead>\n",
       "  <tbody>\n",
       "    <tr>\n",
       "      <th>0</th>\n",
       "      <td>Afghanistan</td>\n",
       "      <td>2004</td>\n",
       "      <td>NaN</td>\n",
       "      <td>19458.00</td>\n",
       "      <td>NaN</td>\n",
       "      <td>1.0</td>\n",
       "    </tr>\n",
       "    <tr>\n",
       "      <th>1</th>\n",
       "      <td>Afghanistan</td>\n",
       "      <td>2005</td>\n",
       "      <td>NaN</td>\n",
       "      <td>9465.42</td>\n",
       "      <td>NaN</td>\n",
       "      <td>1.0</td>\n",
       "    </tr>\n",
       "    <tr>\n",
       "      <th>2</th>\n",
       "      <td>Afghanistan</td>\n",
       "      <td>2006</td>\n",
       "      <td>NaN</td>\n",
       "      <td>31396.38</td>\n",
       "      <td>NaN</td>\n",
       "      <td>1.0</td>\n",
       "    </tr>\n",
       "  </tbody>\n",
       "</table>\n",
       "</div>"
      ],
      "text/plain": [
       "       country  year  k2o_tons    n_tons  p2o5_tons  share_urea\n",
       "0  Afghanistan  2004       NaN  19458.00        NaN         1.0\n",
       "1  Afghanistan  2005       NaN   9465.42        NaN         1.0\n",
       "2  Afghanistan  2006       NaN  31396.38        NaN         1.0"
      ]
     },
     "metadata": {},
     "output_type": "display_data"
    },
    {
     "name": "stdout",
     "output_type": "stream",
     "text": [
      "<class 'pandas.core.frame.DataFrame'>\n",
      "RangeIndex: 1574 entries, 0 to 1573\n",
      "Data columns (total 6 columns):\n",
      " #   Column      Non-Null Count  Dtype  \n",
      "---  ------      --------------  -----  \n",
      " 0   country     1574 non-null   object \n",
      " 1   year        1574 non-null   int64  \n",
      " 2   k2o_tons    1281 non-null   float64\n",
      " 3   n_tons      1464 non-null   float64\n",
      " 4   p2o5_tons   1326 non-null   float64\n",
      " 5   share_urea  1447 non-null   float64\n",
      "dtypes: float64(4), int64(1), object(1)\n",
      "memory usage: 73.9+ KB\n"
     ]
    },
    {
     "data": {
      "text/plain": [
       "None"
      ]
     },
     "metadata": {},
     "output_type": "display_data"
    }
   ],
   "source": [
    "for df in [df_yield_maize, df_temp, df_rainfall, pest_features, fert_features]:\n",
    "    display(df.head(3))\n",
    "    display(df.info())"
   ]
  },
  {
   "cell_type": "markdown",
   "id": "8a48b5f7",
   "metadata": {},
   "source": [
    "Cada dataset tiene dimensiones diferentes. La atomizacion minima es por pais y año, por lo que para aquellos casos donde tengamos varios valores del mismo pais y año podemos agruparlos.\n",
    "\n",
    "La columna 'average_rain_fall_mm_per_year' no aparece como numerica, la transformamos ahora pero en el pipe_engineering final tenemos que validar los tipos de datos esperados"
   ]
  },
  {
   "cell_type": "code",
   "execution_count": 32,
   "id": "7dbbe75d",
   "metadata": {},
   "outputs": [],
   "source": [
    "df_rainfall['average_rain_fall_mm_per_year'] = pd.to_numeric(df_rainfall['average_rain_fall_mm_per_year'], errors='coerce')"
   ]
  },
  {
   "cell_type": "markdown",
   "id": "2d056926",
   "metadata": {},
   "source": [
    "Eliminamos columnas de codigos ya que no aportan informacion adicional. Normalmente estas columnas de codigos suelen estar mas completas que las columnas de nombres pero en este caso el dataset 'df_yield_maize' esta completo y ademas las otras tablas no tienen la informacion de los codigos de paises."
   ]
  },
  {
   "cell_type": "code",
   "execution_count": 33,
   "id": "6ddd4806",
   "metadata": {},
   "outputs": [],
   "source": [
    "df_yield_maize.drop(columns=['area_code', 'item_code', 'year_code'], axis=1, inplace=True)\n",
    "df_yield_maize.rename(columns={'value':'yield_hg_ha'}, inplace=True)"
   ]
  },
  {
   "cell_type": "markdown",
   "id": "7ac3cb8e",
   "metadata": {},
   "source": [
    "## 2. Analisis Univariado de Distribuciones Numericas"
   ]
  },
  {
   "cell_type": "markdown",
   "id": "ee135e5e",
   "metadata": {},
   "source": [
    "Analizamos los rangos de fechas de cada set de datos y los rangos de dispersion/distribucion de los valores para cada variable\n"
   ]
  },
  {
   "cell_type": "code",
   "execution_count": 34,
   "id": "1a663ab4",
   "metadata": {},
   "outputs": [
    {
     "data": {
      "text/html": [
       "<div>\n",
       "<style scoped>\n",
       "    .dataframe tbody tr th:only-of-type {\n",
       "        vertical-align: middle;\n",
       "    }\n",
       "\n",
       "    .dataframe tbody tr th {\n",
       "        vertical-align: top;\n",
       "    }\n",
       "\n",
       "    .dataframe thead th {\n",
       "        text-align: right;\n",
       "    }\n",
       "</style>\n",
       "<table border=\"1\" class=\"dataframe\">\n",
       "  <thead>\n",
       "    <tr style=\"text-align: right;\">\n",
       "      <th></th>\n",
       "      <th>year</th>\n",
       "      <th>yield_hg_ha</th>\n",
       "    </tr>\n",
       "  </thead>\n",
       "  <tbody>\n",
       "    <tr>\n",
       "      <th>count</th>\n",
       "      <td>8631.000000</td>\n",
       "      <td>8631.000000</td>\n",
       "    </tr>\n",
       "    <tr>\n",
       "      <th>mean</th>\n",
       "      <td>1989.537249</td>\n",
       "      <td>29360.009616</td>\n",
       "    </tr>\n",
       "    <tr>\n",
       "      <th>std</th>\n",
       "      <td>16.220446</td>\n",
       "      <td>31941.629349</td>\n",
       "    </tr>\n",
       "    <tr>\n",
       "      <th>min</th>\n",
       "      <td>1961.000000</td>\n",
       "      <td>343.000000</td>\n",
       "    </tr>\n",
       "    <tr>\n",
       "      <th>25%</th>\n",
       "      <td>1975.000000</td>\n",
       "      <td>10911.500000</td>\n",
       "    </tr>\n",
       "    <tr>\n",
       "      <th>50%</th>\n",
       "      <td>1990.000000</td>\n",
       "      <td>17393.000000</td>\n",
       "    </tr>\n",
       "    <tr>\n",
       "      <th>75%</th>\n",
       "      <td>2004.000000</td>\n",
       "      <td>36619.500000</td>\n",
       "    </tr>\n",
       "    <tr>\n",
       "      <th>max</th>\n",
       "      <td>2016.000000</td>\n",
       "      <td>404127.000000</td>\n",
       "    </tr>\n",
       "  </tbody>\n",
       "</table>\n",
       "</div>"
      ],
      "text/plain": [
       "              year    yield_hg_ha\n",
       "count  8631.000000    8631.000000\n",
       "mean   1989.537249   29360.009616\n",
       "std      16.220446   31941.629349\n",
       "min    1961.000000     343.000000\n",
       "25%    1975.000000   10911.500000\n",
       "50%    1990.000000   17393.000000\n",
       "75%    2004.000000   36619.500000\n",
       "max    2016.000000  404127.000000"
      ]
     },
     "metadata": {},
     "output_type": "display_data"
    },
    {
     "data": {
      "text/html": [
       "<div>\n",
       "<style scoped>\n",
       "    .dataframe tbody tr th:only-of-type {\n",
       "        vertical-align: middle;\n",
       "    }\n",
       "\n",
       "    .dataframe tbody tr th {\n",
       "        vertical-align: top;\n",
       "    }\n",
       "\n",
       "    .dataframe thead th {\n",
       "        text-align: right;\n",
       "    }\n",
       "</style>\n",
       "<table border=\"1\" class=\"dataframe\">\n",
       "  <thead>\n",
       "    <tr style=\"text-align: right;\">\n",
       "      <th></th>\n",
       "      <th>year</th>\n",
       "      <th>avg_temp</th>\n",
       "    </tr>\n",
       "  </thead>\n",
       "  <tbody>\n",
       "    <tr>\n",
       "      <th>count</th>\n",
       "      <td>71311.000000</td>\n",
       "      <td>68764.000000</td>\n",
       "    </tr>\n",
       "    <tr>\n",
       "      <th>mean</th>\n",
       "      <td>1905.799007</td>\n",
       "      <td>16.183876</td>\n",
       "    </tr>\n",
       "    <tr>\n",
       "      <th>std</th>\n",
       "      <td>67.102099</td>\n",
       "      <td>7.592960</td>\n",
       "    </tr>\n",
       "    <tr>\n",
       "      <th>min</th>\n",
       "      <td>1743.000000</td>\n",
       "      <td>-14.350000</td>\n",
       "    </tr>\n",
       "    <tr>\n",
       "      <th>25%</th>\n",
       "      <td>1858.000000</td>\n",
       "      <td>9.750000</td>\n",
       "    </tr>\n",
       "    <tr>\n",
       "      <th>50%</th>\n",
       "      <td>1910.000000</td>\n",
       "      <td>16.140000</td>\n",
       "    </tr>\n",
       "    <tr>\n",
       "      <th>75%</th>\n",
       "      <td>1962.000000</td>\n",
       "      <td>23.762500</td>\n",
       "    </tr>\n",
       "    <tr>\n",
       "      <th>max</th>\n",
       "      <td>2013.000000</td>\n",
       "      <td>30.730000</td>\n",
       "    </tr>\n",
       "  </tbody>\n",
       "</table>\n",
       "</div>"
      ],
      "text/plain": [
       "               year      avg_temp\n",
       "count  71311.000000  68764.000000\n",
       "mean    1905.799007     16.183876\n",
       "std       67.102099      7.592960\n",
       "min     1743.000000    -14.350000\n",
       "25%     1858.000000      9.750000\n",
       "50%     1910.000000     16.140000\n",
       "75%     1962.000000     23.762500\n",
       "max     2013.000000     30.730000"
      ]
     },
     "metadata": {},
     "output_type": "display_data"
    },
    {
     "data": {
      "text/html": [
       "<div>\n",
       "<style scoped>\n",
       "    .dataframe tbody tr th:only-of-type {\n",
       "        vertical-align: middle;\n",
       "    }\n",
       "\n",
       "    .dataframe tbody tr th {\n",
       "        vertical-align: top;\n",
       "    }\n",
       "\n",
       "    .dataframe thead th {\n",
       "        text-align: right;\n",
       "    }\n",
       "</style>\n",
       "<table border=\"1\" class=\"dataframe\">\n",
       "  <thead>\n",
       "    <tr style=\"text-align: right;\">\n",
       "      <th></th>\n",
       "      <th>year</th>\n",
       "      <th>average_rain_fall_mm_per_year</th>\n",
       "    </tr>\n",
       "  </thead>\n",
       "  <tbody>\n",
       "    <tr>\n",
       "      <th>count</th>\n",
       "      <td>6727.000000</td>\n",
       "      <td>5947.000000</td>\n",
       "    </tr>\n",
       "    <tr>\n",
       "      <th>mean</th>\n",
       "      <td>2001.354839</td>\n",
       "      <td>1124.743232</td>\n",
       "    </tr>\n",
       "    <tr>\n",
       "      <th>std</th>\n",
       "      <td>9.530114</td>\n",
       "      <td>786.257365</td>\n",
       "    </tr>\n",
       "    <tr>\n",
       "      <th>min</th>\n",
       "      <td>1985.000000</td>\n",
       "      <td>51.000000</td>\n",
       "    </tr>\n",
       "    <tr>\n",
       "      <th>25%</th>\n",
       "      <td>1993.000000</td>\n",
       "      <td>534.000000</td>\n",
       "    </tr>\n",
       "    <tr>\n",
       "      <th>50%</th>\n",
       "      <td>2001.000000</td>\n",
       "      <td>1010.000000</td>\n",
       "    </tr>\n",
       "    <tr>\n",
       "      <th>75%</th>\n",
       "      <td>2010.000000</td>\n",
       "      <td>1651.000000</td>\n",
       "    </tr>\n",
       "    <tr>\n",
       "      <th>max</th>\n",
       "      <td>2017.000000</td>\n",
       "      <td>3240.000000</td>\n",
       "    </tr>\n",
       "  </tbody>\n",
       "</table>\n",
       "</div>"
      ],
      "text/plain": [
       "              year  average_rain_fall_mm_per_year\n",
       "count  6727.000000                    5947.000000\n",
       "mean   2001.354839                    1124.743232\n",
       "std       9.530114                     786.257365\n",
       "min    1985.000000                      51.000000\n",
       "25%    1993.000000                     534.000000\n",
       "50%    2001.000000                    1010.000000\n",
       "75%    2010.000000                    1651.000000\n",
       "max    2017.000000                    3240.000000"
      ]
     },
     "metadata": {},
     "output_type": "display_data"
    },
    {
     "data": {
      "text/html": [
       "<div>\n",
       "<style scoped>\n",
       "    .dataframe tbody tr th:only-of-type {\n",
       "        vertical-align: middle;\n",
       "    }\n",
       "\n",
       "    .dataframe tbody tr th {\n",
       "        vertical-align: top;\n",
       "    }\n",
       "\n",
       "    .dataframe thead th {\n",
       "        text-align: right;\n",
       "    }\n",
       "</style>\n",
       "<table border=\"1\" class=\"dataframe\">\n",
       "  <thead>\n",
       "    <tr style=\"text-align: right;\">\n",
       "      <th></th>\n",
       "      <th>year</th>\n",
       "      <th>pest_total_tons</th>\n",
       "      <th>share_fungicides_bactericides</th>\n",
       "      <th>share_herbicides</th>\n",
       "      <th>share_insecticides</th>\n",
       "      <th>share_other_pesticides</th>\n",
       "      <th>pest_total_kg_per_ha</th>\n",
       "    </tr>\n",
       "  </thead>\n",
       "  <tbody>\n",
       "    <tr>\n",
       "      <th>count</th>\n",
       "      <td>5629.000000</td>\n",
       "      <td>5629.000000</td>\n",
       "      <td>5506.000000</td>\n",
       "      <td>5375.000000</td>\n",
       "      <td>5560.000000</td>\n",
       "      <td>5239.000000</td>\n",
       "      <td>5299.000000</td>\n",
       "    </tr>\n",
       "    <tr>\n",
       "      <th>mean</th>\n",
       "      <td>2003.123645</td>\n",
       "      <td>13169.988453</td>\n",
       "      <td>0.250747</td>\n",
       "      <td>0.378170</td>\n",
       "      <td>0.306457</td>\n",
       "      <td>0.084525</td>\n",
       "      <td>4.233771</td>\n",
       "    </tr>\n",
       "    <tr>\n",
       "      <th>std</th>\n",
       "      <td>7.742479</td>\n",
       "      <td>47641.027888</td>\n",
       "      <td>0.199829</td>\n",
       "      <td>0.252259</td>\n",
       "      <td>0.256141</td>\n",
       "      <td>0.123452</td>\n",
       "      <td>7.000714</td>\n",
       "    </tr>\n",
       "    <tr>\n",
       "      <th>min</th>\n",
       "      <td>1990.000000</td>\n",
       "      <td>0.000000</td>\n",
       "      <td>0.000000</td>\n",
       "      <td>0.000000</td>\n",
       "      <td>0.000000</td>\n",
       "      <td>0.000000</td>\n",
       "      <td>0.000000</td>\n",
       "    </tr>\n",
       "    <tr>\n",
       "      <th>25%</th>\n",
       "      <td>1996.000000</td>\n",
       "      <td>82.000000</td>\n",
       "      <td>0.097296</td>\n",
       "      <td>0.180524</td>\n",
       "      <td>0.130102</td>\n",
       "      <td>0.002388</td>\n",
       "      <td>0.295000</td>\n",
       "    </tr>\n",
       "    <tr>\n",
       "      <th>50%</th>\n",
       "      <td>2003.000000</td>\n",
       "      <td>700.000000</td>\n",
       "      <td>0.219902</td>\n",
       "      <td>0.338582</td>\n",
       "      <td>0.228179</td>\n",
       "      <td>0.051413</td>\n",
       "      <td>1.260000</td>\n",
       "    </tr>\n",
       "    <tr>\n",
       "      <th>75%</th>\n",
       "      <td>2010.000000</td>\n",
       "      <td>4159.000000</td>\n",
       "      <td>0.350868</td>\n",
       "      <td>0.576200</td>\n",
       "      <td>0.400000</td>\n",
       "      <td>0.106396</td>\n",
       "      <td>4.820000</td>\n",
       "    </tr>\n",
       "    <tr>\n",
       "      <th>max</th>\n",
       "      <td>2016.000000</td>\n",
       "      <td>514828.000000</td>\n",
       "      <td>1.000000</td>\n",
       "      <td>1.000000</td>\n",
       "      <td>1.000000</td>\n",
       "      <td>1.000000</td>\n",
       "      <td>37.910000</td>\n",
       "    </tr>\n",
       "  </tbody>\n",
       "</table>\n",
       "</div>"
      ],
      "text/plain": [
       "              year  pest_total_tons  share_fungicides_bactericides  \\\n",
       "count  5629.000000      5629.000000                    5506.000000   \n",
       "mean   2003.123645     13169.988453                       0.250747   \n",
       "std       7.742479     47641.027888                       0.199829   \n",
       "min    1990.000000         0.000000                       0.000000   \n",
       "25%    1996.000000        82.000000                       0.097296   \n",
       "50%    2003.000000       700.000000                       0.219902   \n",
       "75%    2010.000000      4159.000000                       0.350868   \n",
       "max    2016.000000    514828.000000                       1.000000   \n",
       "\n",
       "       share_herbicides  share_insecticides  share_other_pesticides  \\\n",
       "count       5375.000000         5560.000000             5239.000000   \n",
       "mean           0.378170            0.306457                0.084525   \n",
       "std            0.252259            0.256141                0.123452   \n",
       "min            0.000000            0.000000                0.000000   \n",
       "25%            0.180524            0.130102                0.002388   \n",
       "50%            0.338582            0.228179                0.051413   \n",
       "75%            0.576200            0.400000                0.106396   \n",
       "max            1.000000            1.000000                1.000000   \n",
       "\n",
       "       pest_total_kg_per_ha  \n",
       "count           5299.000000  \n",
       "mean               4.233771  \n",
       "std                7.000714  \n",
       "min                0.000000  \n",
       "25%                0.295000  \n",
       "50%                1.260000  \n",
       "75%                4.820000  \n",
       "max               37.910000  "
      ]
     },
     "metadata": {},
     "output_type": "display_data"
    },
    {
     "data": {
      "text/html": [
       "<div>\n",
       "<style scoped>\n",
       "    .dataframe tbody tr th:only-of-type {\n",
       "        vertical-align: middle;\n",
       "    }\n",
       "\n",
       "    .dataframe tbody tr th {\n",
       "        vertical-align: top;\n",
       "    }\n",
       "\n",
       "    .dataframe thead th {\n",
       "        text-align: right;\n",
       "    }\n",
       "</style>\n",
       "<table border=\"1\" class=\"dataframe\">\n",
       "  <thead>\n",
       "    <tr style=\"text-align: right;\">\n",
       "      <th></th>\n",
       "      <th>year</th>\n",
       "      <th>k2o_tons</th>\n",
       "      <th>n_tons</th>\n",
       "      <th>p2o5_tons</th>\n",
       "      <th>share_urea</th>\n",
       "    </tr>\n",
       "  </thead>\n",
       "  <tbody>\n",
       "    <tr>\n",
       "      <th>count</th>\n",
       "      <td>1574.000000</td>\n",
       "      <td>1.281000e+03</td>\n",
       "      <td>1.464000e+03</td>\n",
       "      <td>1.326000e+03</td>\n",
       "      <td>1447.000000</td>\n",
       "    </tr>\n",
       "    <tr>\n",
       "      <th>mean</th>\n",
       "      <td>2008.402795</td>\n",
       "      <td>1.343750e+05</td>\n",
       "      <td>3.948760e+05</td>\n",
       "      <td>1.627667e+05</td>\n",
       "      <td>0.607004</td>\n",
       "    </tr>\n",
       "    <tr>\n",
       "      <th>std</th>\n",
       "      <td>3.966534</td>\n",
       "      <td>6.279576e+05</td>\n",
       "      <td>1.465281e+06</td>\n",
       "      <td>6.008653e+05</td>\n",
       "      <td>0.359964</td>\n",
       "    </tr>\n",
       "    <tr>\n",
       "      <th>min</th>\n",
       "      <td>2002.000000</td>\n",
       "      <td>0.000000e+00</td>\n",
       "      <td>0.000000e+00</td>\n",
       "      <td>0.000000e+00</td>\n",
       "      <td>0.000000</td>\n",
       "    </tr>\n",
       "    <tr>\n",
       "      <th>25%</th>\n",
       "      <td>2005.000000</td>\n",
       "      <td>2.149000e+02</td>\n",
       "      <td>4.213327e+03</td>\n",
       "      <td>3.591650e+02</td>\n",
       "      <td>0.281360</td>\n",
       "    </tr>\n",
       "    <tr>\n",
       "      <th>50%</th>\n",
       "      <td>2008.000000</td>\n",
       "      <td>4.800000e+03</td>\n",
       "      <td>3.058838e+04</td>\n",
       "      <td>7.360000e+03</td>\n",
       "      <td>0.719254</td>\n",
       "    </tr>\n",
       "    <tr>\n",
       "      <th>75%</th>\n",
       "      <td>2011.000000</td>\n",
       "      <td>3.278896e+04</td>\n",
       "      <td>1.569834e+05</td>\n",
       "      <td>5.610160e+04</td>\n",
       "      <td>0.950198</td>\n",
       "    </tr>\n",
       "    <tr>\n",
       "      <th>max</th>\n",
       "      <td>2016.000000</td>\n",
       "      <td>1.080720e+07</td>\n",
       "      <td>1.419117e+07</td>\n",
       "      <td>5.778479e+06</td>\n",
       "      <td>1.000000</td>\n",
       "    </tr>\n",
       "  </tbody>\n",
       "</table>\n",
       "</div>"
      ],
      "text/plain": [
       "              year      k2o_tons        n_tons     p2o5_tons   share_urea\n",
       "count  1574.000000  1.281000e+03  1.464000e+03  1.326000e+03  1447.000000\n",
       "mean   2008.402795  1.343750e+05  3.948760e+05  1.627667e+05     0.607004\n",
       "std       3.966534  6.279576e+05  1.465281e+06  6.008653e+05     0.359964\n",
       "min    2002.000000  0.000000e+00  0.000000e+00  0.000000e+00     0.000000\n",
       "25%    2005.000000  2.149000e+02  4.213327e+03  3.591650e+02     0.281360\n",
       "50%    2008.000000  4.800000e+03  3.058838e+04  7.360000e+03     0.719254\n",
       "75%    2011.000000  3.278896e+04  1.569834e+05  5.610160e+04     0.950198\n",
       "max    2016.000000  1.080720e+07  1.419117e+07  5.778479e+06     1.000000"
      ]
     },
     "metadata": {},
     "output_type": "display_data"
    }
   ],
   "source": [
    "for df in [df_yield_maize, df_temp, df_rainfall, pest_features, fert_features]:\n",
    "    display(df.describe())"
   ]
  },
  {
   "cell_type": "code",
   "execution_count": 35,
   "id": "59a95718",
   "metadata": {},
   "outputs": [],
   "source": [
    "def plot_numeric_distributions(dfs: dict):\n",
    "    \"\"\"\n",
    "    Para cada DataFrame del diccionario, grafica las distribuciones de sus columnas numéricas en subplots.\n",
    "    \"\"\"\n",
    "    for name, df in dfs.items():\n",
    "        numeric_cols = df.select_dtypes(include=['number']).columns\n",
    "        n_cols = len(numeric_cols)\n",
    "        \n",
    "        if n_cols == 0:\n",
    "            print(f\"{name} no tiene columnas numéricas.\")\n",
    "            continue\n",
    "\n",
    "        n_rows = math.ceil(n_cols / 2)\n",
    "\n",
    "        fig, axes = plt.subplots(n_rows, 2, figsize=(12, 4 * n_rows))\n",
    "        axes = axes.flatten()\n",
    "\n",
    "        fig.suptitle(f'{name} – Distribuciones de variables numéricas', fontsize=16, y=1.02)\n",
    "\n",
    "        for i, col in enumerate(numeric_cols):\n",
    "            sns.histplot(df[col].dropna(), kde=True, ax=axes[i], bins=50, color='steelblue')\n",
    "            axes[i].set_title(col)\n",
    "            axes[i].grid(True, linestyle='--', alpha=0.5)\n",
    "\n",
    "        # Oculto los subplots vacíos si sobran\n",
    "        for j in range(i + 1, len(axes)):\n",
    "            fig.delaxes(axes[j])\n",
    "\n",
    "        plt.tight_layout()\n",
    "        plt.show()"
   ]
  },
  {
   "cell_type": "code",
   "execution_count": 36,
   "id": "bc52da54",
   "metadata": {},
   "outputs": [
    {
     "data": {
      "image/png": "[encoded data removed]",
      "text/plain": [
       "<Figure size 1200x400 with 2 Axes>"
      ]
     },
     "metadata": {},
     "output_type": "display_data"
    },
    {
     "data": {
      "image/png": "[encoded data removed]",
      "text/plain": [
       "<Figure size 1200x400 with 2 Axes>"
      ]
     },
     "metadata": {},
     "output_type": "display_data"
    },
    {
     "data": {
      "image/png": "[encoded data removed]",
      "text/plain": [
       "<Figure size 1200x400 with 2 Axes>"
      ]
     },
     "metadata": {},
     "output_type": "display_data"
    },
    {
     "data": {
      "image/png": "[encoded data removed]",
      "text/plain": [
       "<Figure size 1200x1600 with 7 Axes>"
      ]
     },
     "metadata": {},
     "output_type": "display_data"
    },
    {
     "data": {
      "image/png": "[encoded data removed]",
      "text/plain": [
       "<Figure size 1200x1200 with 5 Axes>"
      ]
     },
     "metadata": {},
     "output_type": "display_data"
    }
   ],
   "source": [
    "dataframes = {\n",
    "    'Yield Maize': df_yield_maize,\n",
    "    'Temperature': df_temp,\n",
    "    'Rainfall': df_rainfall,\n",
    "    'Pesticides by Type': pest_features,\n",
    "    'Fertilizers by Type': fert_features\n",
    "}\n",
    "\n",
    "plot_numeric_distributions(dataframes)"
   ]
  },
  {
   "cell_type": "markdown",
   "id": "2292fb4b",
   "metadata": {},
   "source": [
    "##### **Los rangos de datos disponibles varian segun la fuente.**\n",
    "- Rindes: 1961-2016\n",
    "- Temperatura: 1743-2013. Mayor concentración de datos a partir de 1850.\n",
    "- Lluvias: 1985-2017. Cierta caída entre el año 2000 y 2005. Posiblemente hay datos faltantes en esas fechas.\n",
    "- Pesticidas: 1990-2016\n",
    "- Fertilizantes: 2002-2016\n",
    "\n",
    "Al haber muchos mas años de datos en la tabla de temperatura que en las otras tablas, nos puede servir para armar alguna variable de temperatura promedio de largo plazo para cada pais o algun derivado (rolling).\n",
    "\n",
    "**Con esta disponibilidad temporal de los datos, la propuesta inicial de la Serie es desde 1990-2016.**\n",
    "\n",
    "Como la serie de temperatura es estable a partir de 1850, la serie de Lluvias empieza en 1985 y la de pesticidas en 1990, vamos a usar los datos desde 1990 en adelante. \n",
    "\n",
    "Si bien la serie de temperaturas esta disponible hasta 2013, y esta puede ser una variable clave para tener una buena estimacion del rendimiento, descartar las estimaciones de rendimientos desde 2013-2016 seria un error. Si simulamos lo que ocurriria en la realidad, lo que nos interesa es estimar el periodo mas actual posible. Para esto, vamos a intentar imputar los ultimos 3 años de temperaturas y estimar rendimientos hasta 2016. En caso de que la variable Temperatura sea muy indispensable para la estimacion y tengamos malos resultados, se puede acceder a la pagina donde se cuelgan los datos de temperatura y actualizar la serie (como alternativa si hay tiempo).\n",
    "\n",
    "Mas adelante podemos tratar de imputar los valores de pesticidas desde 1985-1990 (con valor 0 por su omision o un mean imputer por pais) y alargar la estimacion de la serie para que empiece desde 1985.\n",
    "\n",
    "---\n",
    "\n",
    "##### **Resumen general de las distribuciones de variables numericas:**\n",
    "\n",
    "**`yield`**: Altamente sesgada a la derecha, con muchos valores bajos y unos pocos extremadamente altos (outliers fuertes). Esto indica gran variabilidad en la productividad, posiblemente por diferencias geográficas o económicas. Hay que trabajar el tema de los Outliers, sobre todo si elegimos un modelo lineal.\n",
    "\n",
    "**`avg_temp`**: Distribución multimodal. Se observan varios picos, lo que podría indicar diferentes zonas climáticas (tropical, templado, etc). Valores entre –14°C y 31°C, logicos para temperatura promedio anual.\n",
    "\n",
    "**`average_rain_fall_mm_per_year`**: Distribución sesgada a la derecha. Mayor concentración por debajo de los 1300 mm, pero con registros extremos que superan los 3000 mm. Posibles outliers o zonas con climas muy lluviosos.\n",
    "\n",
    "**`pest_total_tons`**: Distribución extremadamente sesgada a la derecha. La mayoría de los valores son bajos, pero hay valores superiores a 500.000 toneladas, lo que sugiere fuertes outliers. Podrían representar países con uso industrial masivo de pesticidas, o incluso errores de carga.\n",
    "\n",
    "---\n",
    "\n",
    "##### **Conclusiones:**\n",
    "- Trabajar los valores faltantes\n",
    "- Realizar análisis de outliers (boxplots, IQR). Analizar la opcion de eliminar las colas superiores para `yield`, `pest_total_tons`, `pest_total_kg_per_ha` y todas las variables de fertilizantes (si solo generan ruido o usamos un modelo lineal, de lo contrario no es estrictamente necesario).\n",
    "- Aplicar transformaciones logarítmicas a `yield` y `pest_total_tons`, `pest_total_kg_per_ha` y todas las variables de fertilizantes para reducir el sesgo en caso de que corresponda.\n",
    "- Considerar segmentación climática sobre `avg_temp` para mejorar los modelos predictivos."
   ]
  },
  {
   "cell_type": "code",
   "execution_count": 37,
   "id": "eeb0d4c5",
   "metadata": {},
   "outputs": [],
   "source": [
    "def filter_from_year(df: pd.DataFrame, start_year: int = 1990, year_col: str = \"year\") -> pd.DataFrame:\n",
    "    \"\"\"Devuelve una copia de *df* dejando solo las filas donde *year_col* ≥ *start_year*.\"\"\"\n",
    "    return df[df[year_col] >= start_year].copy()\n",
    "\n",
    "df_yield_maize = filter_from_year(df_yield_maize)\n",
    "df_temp = filter_from_year(df_temp)\n",
    "df_rainfall = filter_from_year(df_rainfall)\n",
    "pest_features = filter_from_year(pest_features)\n",
    "df_fertilizers_by_type = filter_from_year(fert_features)"
   ]
  },
  {
   "cell_type": "markdown",
   "id": "a8e95ff5",
   "metadata": {},
   "source": [
    "### Base de Temperatura"
   ]
  },
  {
   "cell_type": "markdown",
   "id": "7ef7c93e",
   "metadata": {},
   "source": [
    "En el dataset de rendimientos solo tenemos un valor por pais y año."
   ]
  },
  {
   "cell_type": "code",
   "execution_count": 38,
   "id": "ca24dfc0",
   "metadata": {},
   "outputs": [
    {
     "name": "stdout",
     "output_type": "stream",
     "text": [
      "Todo OK: no hay duplicados para country–year\n"
     ]
    }
   ],
   "source": [
    "combinaciones_duplicadas = df_yield_maize[df_yield_maize.duplicated(['country', 'year'], keep=False)]\n",
    "\n",
    "if combinaciones_duplicadas.empty:\n",
    "    print(\"Todo OK: no hay duplicados para country–year\")\n",
    "else:\n",
    "    print(f\"Hay {combinaciones_duplicadas.shape[0]} filas duplicadas en {combinaciones_duplicadas[['country','year']].drop_duplicates().shape[0]} combinaciones:\")\n",
    "    display(combinaciones_duplicadas.sort_values(['country', 'year']))"
   ]
  },
  {
   "cell_type": "markdown",
   "id": "02981d4a",
   "metadata": {},
   "source": [
    "Mientras que para las temperaturas tenemos muchos valores para el mismo año. Podemos:\n",
    "* Promediar las temperaturas para cada año, y asi llevarla a la misma granularidad country-year que la variable de rendimiento. \n",
    "* Calcular la desviacion estandar de esas temperaturas por año para capturar la variabilidad intra-año. \n",
    "* Construir una variable de \"anomalía climática\" para medir cuán “raro” fue el año para ese país. Esta ultima quedaria en una escala comparable entre países\n",
    "* Y por ultimo crear \"buckets térmicos\" con un z-score donde indicamos si un pais tiene temperaturas frias, templadas o calidas, ya que como vimos en el grafico de distribuciones, parece haber 3 tipos de climas distintos y esta variable puede facilitarle el camino a modelos tipo arboles para lograr capturar un resultado mas rapido en instancias iniciales o para capturar no-linealidades en modelos lineales."
   ]
  },
  {
   "cell_type": "code",
   "execution_count": 39,
   "id": "f5e6fd26",
   "metadata": {},
   "outputs": [
    {
     "data": {
      "text/html": [
       "<div>\n",
       "<style scoped>\n",
       "    .dataframe tbody tr th:only-of-type {\n",
       "        vertical-align: middle;\n",
       "    }\n",
       "\n",
       "    .dataframe tbody tr th {\n",
       "        vertical-align: top;\n",
       "    }\n",
       "\n",
       "    .dataframe thead th {\n",
       "        text-align: right;\n",
       "    }\n",
       "</style>\n",
       "<table border=\"1\" class=\"dataframe\">\n",
       "  <thead>\n",
       "    <tr style=\"text-align: right;\">\n",
       "      <th></th>\n",
       "      <th>n_missing</th>\n",
       "      <th>n_total</th>\n",
       "      <th>pct_missing</th>\n",
       "    </tr>\n",
       "    <tr>\n",
       "      <th>country</th>\n",
       "      <th></th>\n",
       "      <th></th>\n",
       "      <th></th>\n",
       "    </tr>\n",
       "  </thead>\n",
       "  <tbody>\n",
       "    <tr>\n",
       "      <th>United States</th>\n",
       "      <td>0</td>\n",
       "      <td>1248</td>\n",
       "      <td>0.0</td>\n",
       "    </tr>\n",
       "    <tr>\n",
       "      <th>China</th>\n",
       "      <td>0</td>\n",
       "      <td>816</td>\n",
       "      <td>0.0</td>\n",
       "    </tr>\n",
       "    <tr>\n",
       "      <th>India</th>\n",
       "      <td>0</td>\n",
       "      <td>528</td>\n",
       "      <td>0.0</td>\n",
       "    </tr>\n",
       "    <tr>\n",
       "      <th>Brazil</th>\n",
       "      <td>0</td>\n",
       "      <td>264</td>\n",
       "      <td>0.0</td>\n",
       "    </tr>\n",
       "    <tr>\n",
       "      <th>Russia</th>\n",
       "      <td>0</td>\n",
       "      <td>216</td>\n",
       "      <td>0.0</td>\n",
       "    </tr>\n",
       "    <tr>\n",
       "      <th>Pakistan</th>\n",
       "      <td>0</td>\n",
       "      <td>216</td>\n",
       "      <td>0.0</td>\n",
       "    </tr>\n",
       "    <tr>\n",
       "      <th>Mexico</th>\n",
       "      <td>0</td>\n",
       "      <td>192</td>\n",
       "      <td>0.0</td>\n",
       "    </tr>\n",
       "  </tbody>\n",
       "</table>\n",
       "</div>"
      ],
      "text/plain": [
       "               n_missing  n_total  pct_missing\n",
       "country                                       \n",
       "United States          0     1248          0.0\n",
       "China                  0      816          0.0\n",
       "India                  0      528          0.0\n",
       "Brazil                 0      264          0.0\n",
       "Russia                 0      216          0.0\n",
       "Pakistan               0      216          0.0\n",
       "Mexico                 0      192          0.0"
      ]
     },
     "metadata": {},
     "output_type": "display_data"
    }
   ],
   "source": [
    "g = df_temp.groupby('country')['avg_temp']\n",
    "missing_stats = pd.DataFrame({'n_missing': g.apply(lambda s: s.isna().sum()),\n",
    "                              'n_total': g.size(),\n",
    "                              'pct_missing': g.apply(lambda s: s.isna().mean() * 100)}\n",
    "                            ).sort_values('n_total', ascending=False)\n",
    "display(missing_stats.head(7))\n",
    "del missing_stats, g"
   ]
  },
  {
   "cell_type": "markdown",
   "id": "128d7005",
   "metadata": {},
   "source": [
    "Calculamos el promedio y la desviacion estandar de temperatura por pais y año para capturar la variabilidad intra-año. Luego calculamos la media y desviacion de todo el periodo por pais."
   ]
  },
  {
   "cell_type": "code",
   "execution_count": 40,
   "id": "8e4f1572",
   "metadata": {},
   "outputs": [],
   "source": [
    "annual = df_temp.groupby([\"country\", \"year\"])[\"avg_temp\"].agg(temp_mean=\"mean\", temp_std=\"std\").reset_index()\n",
    "\n",
    "baseline = annual.groupby(\"country\")[\"temp_mean\"].agg(baseline_mean=\"mean\", baseline_std=\"std\").reset_index()"
   ]
  },
  {
   "cell_type": "code",
   "execution_count": 41,
   "id": "d6a5648b",
   "metadata": {},
   "outputs": [],
   "source": [
    "# unimos las tablas y creamos la variable de anomalia termica\n",
    "temp_features = annual.merge(baseline, on=\"country\", how=\"left\")\n",
    "temp_features[\"temp_anomaly_z\"] = ((temp_features[\"temp_mean\"] - temp_features[\"baseline_mean\"]) / temp_features[\"baseline_std\"])"
   ]
  },
  {
   "cell_type": "code",
   "execution_count": 42,
   "id": "0a9333b0",
   "metadata": {},
   "outputs": [],
   "source": [
    "# creamos buckets de temperatura\n",
    "def _bucket(x):\n",
    "    if x < 10:\n",
    "        return \"cold\"\n",
    "    elif x < 20:\n",
    "        return \"mild\"\n",
    "    return \"hot\"\n",
    "    \n",
    "temp_features[\"temp_bucket\"] = temp_features[\"temp_mean\"].apply(_bucket)\n",
    "buckets = pd.get_dummies(temp_features[\"temp_bucket\"], prefix=\"temp\")"
   ]
  },
  {
   "cell_type": "code",
   "execution_count": 43,
   "id": "0765eecf",
   "metadata": {},
   "outputs": [
    {
     "data": {
      "text/html": [
       "<div>\n",
       "<style scoped>\n",
       "    .dataframe tbody tr th:only-of-type {\n",
       "        vertical-align: middle;\n",
       "    }\n",
       "\n",
       "    .dataframe tbody tr th {\n",
       "        vertical-align: top;\n",
       "    }\n",
       "\n",
       "    .dataframe thead th {\n",
       "        text-align: right;\n",
       "    }\n",
       "</style>\n",
       "<table border=\"1\" class=\"dataframe\">\n",
       "  <thead>\n",
       "    <tr style=\"text-align: right;\">\n",
       "      <th></th>\n",
       "      <th>country</th>\n",
       "      <th>year</th>\n",
       "      <th>temp_mean</th>\n",
       "      <th>temp_std</th>\n",
       "      <th>temp_anomaly_z</th>\n",
       "      <th>temp_cold</th>\n",
       "      <th>temp_hot</th>\n",
       "      <th>temp_mild</th>\n",
       "    </tr>\n",
       "  </thead>\n",
       "  <tbody>\n",
       "    <tr>\n",
       "      <th>0</th>\n",
       "      <td>Afghanistan</td>\n",
       "      <td>1990</td>\n",
       "      <td>15.45</td>\n",
       "      <td>NaN</td>\n",
       "      <td>0.253213</td>\n",
       "      <td>False</td>\n",
       "      <td>False</td>\n",
       "      <td>True</td>\n",
       "    </tr>\n",
       "    <tr>\n",
       "      <th>1</th>\n",
       "      <td>Afghanistan</td>\n",
       "      <td>1991</td>\n",
       "      <td>14.57</td>\n",
       "      <td>NaN</td>\n",
       "      <td>-1.402469</td>\n",
       "      <td>False</td>\n",
       "      <td>False</td>\n",
       "      <td>True</td>\n",
       "    </tr>\n",
       "    <tr>\n",
       "      <th>2</th>\n",
       "      <td>Afghanistan</td>\n",
       "      <td>1992</td>\n",
       "      <td>14.35</td>\n",
       "      <td>NaN</td>\n",
       "      <td>-1.816390</td>\n",
       "      <td>False</td>\n",
       "      <td>False</td>\n",
       "      <td>True</td>\n",
       "    </tr>\n",
       "    <tr>\n",
       "      <th>3</th>\n",
       "      <td>Afghanistan</td>\n",
       "      <td>1993</td>\n",
       "      <td>14.96</td>\n",
       "      <td>NaN</td>\n",
       "      <td>-0.668701</td>\n",
       "      <td>False</td>\n",
       "      <td>False</td>\n",
       "      <td>True</td>\n",
       "    </tr>\n",
       "    <tr>\n",
       "      <th>4</th>\n",
       "      <td>Afghanistan</td>\n",
       "      <td>1994</td>\n",
       "      <td>14.94</td>\n",
       "      <td>NaN</td>\n",
       "      <td>-0.706330</td>\n",
       "      <td>False</td>\n",
       "      <td>False</td>\n",
       "      <td>True</td>\n",
       "    </tr>\n",
       "    <tr>\n",
       "      <th>...</th>\n",
       "      <td>...</td>\n",
       "      <td>...</td>\n",
       "      <td>...</td>\n",
       "      <td>...</td>\n",
       "      <td>...</td>\n",
       "      <td>...</td>\n",
       "      <td>...</td>\n",
       "      <td>...</td>\n",
       "    </tr>\n",
       "    <tr>\n",
       "      <th>3283</th>\n",
       "      <td>Zimbabwe</td>\n",
       "      <td>2009</td>\n",
       "      <td>20.52</td>\n",
       "      <td>NaN</td>\n",
       "      <td>-0.677468</td>\n",
       "      <td>False</td>\n",
       "      <td>True</td>\n",
       "      <td>False</td>\n",
       "    </tr>\n",
       "    <tr>\n",
       "      <th>3284</th>\n",
       "      <td>Zimbabwe</td>\n",
       "      <td>2010</td>\n",
       "      <td>21.17</td>\n",
       "      <td>NaN</td>\n",
       "      <td>0.724190</td>\n",
       "      <td>False</td>\n",
       "      <td>True</td>\n",
       "      <td>False</td>\n",
       "    </tr>\n",
       "    <tr>\n",
       "      <th>3285</th>\n",
       "      <td>Zimbabwe</td>\n",
       "      <td>2011</td>\n",
       "      <td>20.78</td>\n",
       "      <td>NaN</td>\n",
       "      <td>-0.116805</td>\n",
       "      <td>False</td>\n",
       "      <td>True</td>\n",
       "      <td>False</td>\n",
       "    </tr>\n",
       "    <tr>\n",
       "      <th>3286</th>\n",
       "      <td>Zimbabwe</td>\n",
       "      <td>2012</td>\n",
       "      <td>20.52</td>\n",
       "      <td>NaN</td>\n",
       "      <td>-0.677468</td>\n",
       "      <td>False</td>\n",
       "      <td>True</td>\n",
       "      <td>False</td>\n",
       "    </tr>\n",
       "    <tr>\n",
       "      <th>3287</th>\n",
       "      <td>Zimbabwe</td>\n",
       "      <td>2013</td>\n",
       "      <td>19.76</td>\n",
       "      <td>NaN</td>\n",
       "      <td>-2.316330</td>\n",
       "      <td>False</td>\n",
       "      <td>False</td>\n",
       "      <td>True</td>\n",
       "    </tr>\n",
       "  </tbody>\n",
       "</table>\n",
       "<p>3288 rows × 8 columns</p>\n",
       "</div>"
      ],
      "text/plain": [
       "          country  year  temp_mean  temp_std  temp_anomaly_z  temp_cold  \\\n",
       "0     Afghanistan  1990      15.45       NaN        0.253213      False   \n",
       "1     Afghanistan  1991      14.57       NaN       -1.402469      False   \n",
       "2     Afghanistan  1992      14.35       NaN       -1.816390      False   \n",
       "3     Afghanistan  1993      14.96       NaN       -0.668701      False   \n",
       "4     Afghanistan  1994      14.94       NaN       -0.706330      False   \n",
       "...           ...   ...        ...       ...             ...        ...   \n",
       "3283     Zimbabwe  2009      20.52       NaN       -0.677468      False   \n",
       "3284     Zimbabwe  2010      21.17       NaN        0.724190      False   \n",
       "3285     Zimbabwe  2011      20.78       NaN       -0.116805      False   \n",
       "3286     Zimbabwe  2012      20.52       NaN       -0.677468      False   \n",
       "3287     Zimbabwe  2013      19.76       NaN       -2.316330      False   \n",
       "\n",
       "      temp_hot  temp_mild  \n",
       "0        False       True  \n",
       "1        False       True  \n",
       "2        False       True  \n",
       "3        False       True  \n",
       "4        False       True  \n",
       "...        ...        ...  \n",
       "3283      True      False  \n",
       "3284      True      False  \n",
       "3285      True      False  \n",
       "3286      True      False  \n",
       "3287     False       True  \n",
       "\n",
       "[3288 rows x 8 columns]"
      ]
     },
     "execution_count": 43,
     "metadata": {},
     "output_type": "execute_result"
    }
   ],
   "source": [
    "temp_features = pd.concat([temp_features, buckets], axis=1).drop(columns=\"temp_bucket\")\n",
    "temp_features = temp_features.drop(columns=[\"baseline_mean\", \"baseline_std\"])\n",
    "temp_features"
   ]
  },
  {
   "cell_type": "code",
   "execution_count": 44,
   "id": "5348c0d7",
   "metadata": {},
   "outputs": [
    {
     "data": {
      "text/plain": [
       "np.float64(0.7153284671532847)"
      ]
     },
     "execution_count": 44,
     "metadata": {},
     "output_type": "execute_result"
    }
   ],
   "source": [
    "# la mayoria de las desviaciones estandar son nan, lo cual indica que solo teniamos 1 valor por pais-año en muchas casos\n",
    "temp_features.temp_std.isna().mean()"
   ]
  },
  {
   "cell_type": "markdown",
   "id": "c03d6dfb",
   "metadata": {},
   "source": [
    "## 3. Analisis de Missing Values"
   ]
  },
  {
   "cell_type": "markdown",
   "id": "2b40266a",
   "metadata": {},
   "source": [
    "Analizamos la estructura de valores faltantes y valores únicos por dataframe"
   ]
  },
  {
   "cell_type": "code",
   "execution_count": 45,
   "id": "c846bfbb",
   "metadata": {},
   "outputs": [
    {
     "name": "stdout",
     "output_type": "stream",
     "text": [
      "\n",
      "DataFrame yield_maize:\n",
      "Valores faltantes:\n"
     ]
    },
    {
     "data": {
      "text/plain": [
       "country        0\n",
       "year           0\n",
       "yield_hg_ha    0\n",
       "dtype: int64"
      ]
     },
     "metadata": {},
     "output_type": "display_data"
    },
    {
     "name": "stdout",
     "output_type": "stream",
     "text": [
      "Cantidad de paises: 177\n",
      "\n",
      "DataFrame temp:\n",
      "Valores faltantes:\n"
     ]
    },
    {
     "data": {
      "text/plain": [
       "country              0\n",
       "year                 0\n",
       "temp_mean            0\n",
       "temp_std          2352\n",
       "temp_anomaly_z       0\n",
       "temp_cold            0\n",
       "temp_hot             0\n",
       "temp_mild            0\n",
       "dtype: int64"
      ]
     },
     "metadata": {},
     "output_type": "display_data"
    },
    {
     "name": "stdout",
     "output_type": "stream",
     "text": [
      "Cantidad de paises: 137\n",
      "\n",
      "DataFrame rainfall:\n",
      "Valores faltantes:\n"
     ]
    },
    {
     "data": {
      "text/plain": [
       "country                            0\n",
       "year                               0\n",
       "average_rain_fall_mm_per_year    677\n",
       "dtype: int64"
      ]
     },
     "metadata": {},
     "output_type": "display_data"
    },
    {
     "name": "stdout",
     "output_type": "stream",
     "text": [
      "Cantidad de paises: 217\n",
      "\n",
      "DataFrame pesticides:\n",
      "Valores faltantes:\n"
     ]
    },
    {
     "data": {
      "text/plain": [
       "country                            0\n",
       "year                               0\n",
       "pest_total_tons                    0\n",
       "share_fungicides_bactericides    123\n",
       "share_herbicides                 254\n",
       "share_insecticides                69\n",
       "share_other_pesticides           390\n",
       "pest_total_kg_per_ha             330\n",
       "dtype: int64"
      ]
     },
     "metadata": {},
     "output_type": "display_data"
    },
    {
     "name": "stdout",
     "output_type": "stream",
     "text": [
      "Cantidad de paises: 220\n",
      "\n",
      "DataFrame fertilizers:\n",
      "Valores faltantes:\n"
     ]
    },
    {
     "data": {
      "text/plain": [
       "country         0\n",
       "year            0\n",
       "k2o_tons      293\n",
       "n_tons        110\n",
       "p2o5_tons     248\n",
       "share_urea    127\n",
       "dtype: int64"
      ]
     },
     "metadata": {},
     "output_type": "display_data"
    },
    {
     "name": "stdout",
     "output_type": "stream",
     "text": [
      "Cantidad de paises: 163\n"
     ]
    }
   ],
   "source": [
    "for name, df in zip(['yield_maize', 'temp', 'rainfall', 'pesticides', 'fertilizers'], \n",
    "                    [df_yield_maize, temp_features, df_rainfall, pest_features, fert_features]):\n",
    "    print(f\"\\nDataFrame {name}:\")\n",
    "    print(\"Valores faltantes:\")\n",
    "    display(df.isna().sum())\n",
    "    print(f\"Cantidad de paises: {df.country.nunique()}\")"
   ]
  },
  {
   "cell_type": "markdown",
   "id": "37df9274",
   "metadata": {},
   "source": [
    "Tenemos menos paises con datos en la tabla de temperatura y fertilizantes que en la tabla de rendimientos. Esto puede ser un problema, ya que si hay paises de los cuales no tenemos valores de ambas variables simultaneamente (temperatura y fertilizantes), probablemente sea dificil estimar un rendimiento para estos casos."
   ]
  },
  {
   "cell_type": "markdown",
   "id": "adc7a1bf",
   "metadata": {},
   "source": [
    "En el set de datos de lluvias hay paises que no tienen datos para todos los años."
   ]
  },
  {
   "cell_type": "code",
   "execution_count": 46,
   "id": "200da48a",
   "metadata": {},
   "outputs": [
    {
     "data": {
      "text/html": [
       "<div>\n",
       "<style scoped>\n",
       "    .dataframe tbody tr th:only-of-type {\n",
       "        vertical-align: middle;\n",
       "    }\n",
       "\n",
       "    .dataframe tbody tr th {\n",
       "        vertical-align: top;\n",
       "    }\n",
       "\n",
       "    .dataframe thead th {\n",
       "        text-align: right;\n",
       "    }\n",
       "</style>\n",
       "<table border=\"1\" class=\"dataframe\">\n",
       "  <thead>\n",
       "    <tr style=\"text-align: right;\">\n",
       "      <th></th>\n",
       "      <th>n_missing</th>\n",
       "      <th>n_total</th>\n",
       "      <th>pct_missing</th>\n",
       "    </tr>\n",
       "    <tr>\n",
       "      <th>country</th>\n",
       "      <th></th>\n",
       "      <th></th>\n",
       "      <th></th>\n",
       "    </tr>\n",
       "  </thead>\n",
       "  <tbody>\n",
       "    <tr>\n",
       "      <th>American Samoa</th>\n",
       "      <td>27</td>\n",
       "      <td>27</td>\n",
       "      <td>100.0</td>\n",
       "    </tr>\n",
       "    <tr>\n",
       "      <th>Bermuda</th>\n",
       "      <td>27</td>\n",
       "      <td>27</td>\n",
       "      <td>100.0</td>\n",
       "    </tr>\n",
       "    <tr>\n",
       "      <th>Aruba</th>\n",
       "      <td>27</td>\n",
       "      <td>27</td>\n",
       "      <td>100.0</td>\n",
       "    </tr>\n",
       "    <tr>\n",
       "      <th>Greenland</th>\n",
       "      <td>27</td>\n",
       "      <td>27</td>\n",
       "      <td>100.0</td>\n",
       "    </tr>\n",
       "    <tr>\n",
       "      <th>Gibraltar</th>\n",
       "      <td>27</td>\n",
       "      <td>27</td>\n",
       "      <td>100.0</td>\n",
       "    </tr>\n",
       "  </tbody>\n",
       "</table>\n",
       "</div>"
      ],
      "text/plain": [
       "                n_missing  n_total  pct_missing\n",
       "country                                        \n",
       "American Samoa         27       27        100.0\n",
       "Bermuda                27       27        100.0\n",
       "Aruba                  27       27        100.0\n",
       "Greenland              27       27        100.0\n",
       "Gibraltar              27       27        100.0"
      ]
     },
     "metadata": {},
     "output_type": "display_data"
    }
   ],
   "source": [
    "g = df_rainfall.groupby('country')['average_rain_fall_mm_per_year']\n",
    "missing_stats = pd.DataFrame({'n_missing': g.apply(lambda s: s.isna().sum()),\n",
    "                              'n_total': g.size(),\n",
    "                              'pct_missing': g.apply(lambda s: s.isna().mean() * 100)}\n",
    "                            ).sort_values('pct_missing', ascending=False)\n",
    "display(missing_stats.head(5))\n",
    "del missing_stats, g"
   ]
  },
  {
   "cell_type": "code",
   "execution_count": 47,
   "id": "a885f57a",
   "metadata": {},
   "outputs": [],
   "source": [
    "# Combinamos todos los dataframes por las columnas 'year' y 'country' para luego tratar los valores faltantes\n",
    "df_combined = df_yield_maize.copy()\n",
    "df_combined = df_combined.merge(temp_features, on=['year', 'country'], how='left')\n",
    "df_combined = df_combined.merge(df_rainfall, on=['year', 'country'], how='left')\n",
    "df_combined = df_combined.merge(pest_features, on=['year', 'country'], how='left')\n",
    "df_combined = df_combined.merge(fert_features, on=['year', 'country'], how='left')"
   ]
  },
  {
   "cell_type": "code",
   "execution_count": 48,
   "id": "d108e33c",
   "metadata": {},
   "outputs": [
    {
     "name": "stdout",
     "output_type": "stream",
     "text": [
      "Dataset combinado:\n",
      "- Dimensiones: (4453, 20)\n",
      "- Columnas: ['country', 'year', 'yield_hg_ha', 'temp_mean', 'temp_std', 'temp_anomaly_z', 'temp_cold', 'temp_hot', 'temp_mild', 'average_rain_fall_mm_per_year', 'pest_total_tons', 'share_fungicides_bactericides', 'share_herbicides', 'share_insecticides', 'share_other_pesticides', 'pest_total_kg_per_ha', 'k2o_tons', 'n_tons', 'p2o5_tons', 'share_urea']\n",
      "- Periodo: 1990 - 2016\n",
      "- Países/Areas: 177\n"
     ]
    },
    {
     "data": {
      "text/html": [
       "<div>\n",
       "<style scoped>\n",
       "    .dataframe tbody tr th:only-of-type {\n",
       "        vertical-align: middle;\n",
       "    }\n",
       "\n",
       "    .dataframe tbody tr th {\n",
       "        vertical-align: top;\n",
       "    }\n",
       "\n",
       "    .dataframe thead th {\n",
       "        text-align: right;\n",
       "    }\n",
       "</style>\n",
       "<table border=\"1\" class=\"dataframe\">\n",
       "  <thead>\n",
       "    <tr style=\"text-align: right;\">\n",
       "      <th></th>\n",
       "      <th>country</th>\n",
       "      <th>year</th>\n",
       "      <th>yield_hg_ha</th>\n",
       "      <th>temp_mean</th>\n",
       "      <th>temp_std</th>\n",
       "      <th>temp_anomaly_z</th>\n",
       "      <th>temp_cold</th>\n",
       "      <th>temp_hot</th>\n",
       "      <th>temp_mild</th>\n",
       "      <th>average_rain_fall_mm_per_year</th>\n",
       "      <th>pest_total_tons</th>\n",
       "      <th>share_fungicides_bactericides</th>\n",
       "      <th>share_herbicides</th>\n",
       "      <th>share_insecticides</th>\n",
       "      <th>share_other_pesticides</th>\n",
       "      <th>pest_total_kg_per_ha</th>\n",
       "      <th>k2o_tons</th>\n",
       "      <th>n_tons</th>\n",
       "      <th>p2o5_tons</th>\n",
       "      <th>share_urea</th>\n",
       "    </tr>\n",
       "  </thead>\n",
       "  <tbody>\n",
       "    <tr>\n",
       "      <th>0</th>\n",
       "      <td>Afghanistan</td>\n",
       "      <td>1990</td>\n",
       "      <td>17582</td>\n",
       "      <td>15.45</td>\n",
       "      <td>NaN</td>\n",
       "      <td>0.253213</td>\n",
       "      <td>False</td>\n",
       "      <td>False</td>\n",
       "      <td>True</td>\n",
       "      <td>327.0</td>\n",
       "      <td>NaN</td>\n",
       "      <td>NaN</td>\n",
       "      <td>NaN</td>\n",
       "      <td>NaN</td>\n",
       "      <td>NaN</td>\n",
       "      <td>NaN</td>\n",
       "      <td>NaN</td>\n",
       "      <td>NaN</td>\n",
       "      <td>NaN</td>\n",
       "      <td>NaN</td>\n",
       "    </tr>\n",
       "    <tr>\n",
       "      <th>1</th>\n",
       "      <td>Afghanistan</td>\n",
       "      <td>1991</td>\n",
       "      <td>16800</td>\n",
       "      <td>14.57</td>\n",
       "      <td>NaN</td>\n",
       "      <td>-1.402469</td>\n",
       "      <td>False</td>\n",
       "      <td>False</td>\n",
       "      <td>True</td>\n",
       "      <td>327.0</td>\n",
       "      <td>NaN</td>\n",
       "      <td>NaN</td>\n",
       "      <td>NaN</td>\n",
       "      <td>NaN</td>\n",
       "      <td>NaN</td>\n",
       "      <td>NaN</td>\n",
       "      <td>NaN</td>\n",
       "      <td>NaN</td>\n",
       "      <td>NaN</td>\n",
       "      <td>NaN</td>\n",
       "    </tr>\n",
       "    <tr>\n",
       "      <th>2</th>\n",
       "      <td>Afghanistan</td>\n",
       "      <td>1992</td>\n",
       "      <td>15000</td>\n",
       "      <td>14.35</td>\n",
       "      <td>NaN</td>\n",
       "      <td>-1.816390</td>\n",
       "      <td>False</td>\n",
       "      <td>False</td>\n",
       "      <td>True</td>\n",
       "      <td>327.0</td>\n",
       "      <td>NaN</td>\n",
       "      <td>NaN</td>\n",
       "      <td>NaN</td>\n",
       "      <td>NaN</td>\n",
       "      <td>NaN</td>\n",
       "      <td>NaN</td>\n",
       "      <td>NaN</td>\n",
       "      <td>NaN</td>\n",
       "      <td>NaN</td>\n",
       "      <td>NaN</td>\n",
       "    </tr>\n",
       "    <tr>\n",
       "      <th>3</th>\n",
       "      <td>Afghanistan</td>\n",
       "      <td>1993</td>\n",
       "      <td>16786</td>\n",
       "      <td>14.96</td>\n",
       "      <td>NaN</td>\n",
       "      <td>-0.668701</td>\n",
       "      <td>False</td>\n",
       "      <td>False</td>\n",
       "      <td>True</td>\n",
       "      <td>327.0</td>\n",
       "      <td>NaN</td>\n",
       "      <td>NaN</td>\n",
       "      <td>NaN</td>\n",
       "      <td>NaN</td>\n",
       "      <td>NaN</td>\n",
       "      <td>NaN</td>\n",
       "      <td>NaN</td>\n",
       "      <td>NaN</td>\n",
       "      <td>NaN</td>\n",
       "      <td>NaN</td>\n",
       "    </tr>\n",
       "    <tr>\n",
       "      <th>4</th>\n",
       "      <td>Afghanistan</td>\n",
       "      <td>1994</td>\n",
       "      <td>16667</td>\n",
       "      <td>14.94</td>\n",
       "      <td>NaN</td>\n",
       "      <td>-0.706330</td>\n",
       "      <td>False</td>\n",
       "      <td>False</td>\n",
       "      <td>True</td>\n",
       "      <td>327.0</td>\n",
       "      <td>NaN</td>\n",
       "      <td>NaN</td>\n",
       "      <td>NaN</td>\n",
       "      <td>NaN</td>\n",
       "      <td>NaN</td>\n",
       "      <td>NaN</td>\n",
       "      <td>NaN</td>\n",
       "      <td>NaN</td>\n",
       "      <td>NaN</td>\n",
       "      <td>NaN</td>\n",
       "    </tr>\n",
       "  </tbody>\n",
       "</table>\n",
       "</div>"
      ],
      "text/plain": [
       "       country  year  yield_hg_ha  temp_mean  temp_std  temp_anomaly_z  \\\n",
       "0  Afghanistan  1990        17582      15.45       NaN        0.253213   \n",
       "1  Afghanistan  1991        16800      14.57       NaN       -1.402469   \n",
       "2  Afghanistan  1992        15000      14.35       NaN       -1.816390   \n",
       "3  Afghanistan  1993        16786      14.96       NaN       -0.668701   \n",
       "4  Afghanistan  1994        16667      14.94       NaN       -0.706330   \n",
       "\n",
       "  temp_cold temp_hot temp_mild  average_rain_fall_mm_per_year  \\\n",
       "0     False    False      True                          327.0   \n",
       "1     False    False      True                          327.0   \n",
       "2     False    False      True                          327.0   \n",
       "3     False    False      True                          327.0   \n",
       "4     False    False      True                          327.0   \n",
       "\n",
       "   pest_total_tons  share_fungicides_bactericides  share_herbicides  \\\n",
       "0              NaN                            NaN               NaN   \n",
       "1              NaN                            NaN               NaN   \n",
       "2              NaN                            NaN               NaN   \n",
       "3              NaN                            NaN               NaN   \n",
       "4              NaN                            NaN               NaN   \n",
       "\n",
       "   share_insecticides  share_other_pesticides  pest_total_kg_per_ha  k2o_tons  \\\n",
       "0                 NaN                     NaN                   NaN       NaN   \n",
       "1                 NaN                     NaN                   NaN       NaN   \n",
       "2                 NaN                     NaN                   NaN       NaN   \n",
       "3                 NaN                     NaN                   NaN       NaN   \n",
       "4                 NaN                     NaN                   NaN       NaN   \n",
       "\n",
       "   n_tons  p2o5_tons  share_urea  \n",
       "0     NaN        NaN         NaN  \n",
       "1     NaN        NaN         NaN  \n",
       "2     NaN        NaN         NaN  \n",
       "3     NaN        NaN         NaN  \n",
       "4     NaN        NaN         NaN  "
      ]
     },
     "execution_count": 48,
     "metadata": {},
     "output_type": "execute_result"
    }
   ],
   "source": [
    "print(f\"Dataset combinado:\")\n",
    "print(f\"- Dimensiones: {df_combined.shape}\")\n",
    "print(f\"- Columnas: {list(df_combined.columns)}\")\n",
    "print(f\"- Periodo: {df_combined['year'].min()} - {df_combined['year'].max()}\")\n",
    "print(f\"- Países/Areas: {df_combined['country'].nunique()}\")\n",
    "\n",
    "df_combined.head()"
   ]
  },
  {
   "cell_type": "code",
   "execution_count": 49,
   "id": "67e681aa",
   "metadata": {},
   "outputs": [
    {
     "data": {
      "text/plain": [
       "True"
      ]
     },
     "execution_count": 49,
     "metadata": {},
     "output_type": "execute_result"
    }
   ],
   "source": [
    "# verificamos que solo hay un dato por pais y año luego de unir todas las bases de datos\n",
    "df_combined.shape[0] == df_combined[['country', 'year']].drop_duplicates().shape[0]"
   ]
  },
  {
   "cell_type": "markdown",
   "id": "0fcd1719",
   "metadata": {},
   "source": [
    "Vemos que hay muchos valores faltantes en muchas de las features. Esto es normal ya que algunas series ya vienen incompletas desde su base:\n",
    "* Fertilizantes empiezan directamente desde 2002.\n",
    "* Temperatura solo estan disponibles hasta 2013 y nosotros queremos estimar rendimientos hasta 2016. \n",
    "* La serie de lluvias vimos que tiene valores faltantes para todos los años de algunos paises, lo cual sugiere tambien que una posibilidad es acortar el rango de paises a estimar en una primera etapa o armar otro modelo con todos y ver cual responde mejor (es una cuestion del alcance del problema que se quiera resolver)."
   ]
  },
  {
   "cell_type": "code",
   "execution_count": 50,
   "id": "16fa6968",
   "metadata": {},
   "outputs": [
    {
     "data": {
      "text/plain": [
       "temp_std                         3773\n",
       "k2o_tons                         3388\n",
       "p2o5_tons                        3326\n",
       "share_urea                       3229\n",
       "n_tons                           3223\n",
       "temp_anomaly_z                   2046\n",
       "temp_cold                        2046\n",
       "temp_mean                        2046\n",
       "temp_mild                        2046\n",
       "temp_hot                         2046\n",
       "average_rain_fall_mm_per_year     935\n",
       "share_other_pesticides            627\n",
       "share_herbicides                  491\n",
       "share_fungicides_bactericides     360\n",
       "pest_total_kg_per_ha              323\n",
       "dtype: int64"
      ]
     },
     "execution_count": 50,
     "metadata": {},
     "output_type": "execute_result"
    }
   ],
   "source": [
    "df_combined.isna().sum().sort_values(ascending=False).head(15)"
   ]
  },
  {
   "cell_type": "code",
   "execution_count": 51,
   "id": "f173abec",
   "metadata": {},
   "outputs": [
    {
     "data": {
      "text/plain": [
       "temp_std                         0.847294\n",
       "k2o_tons                         0.760835\n",
       "p2o5_tons                        0.746912\n",
       "share_urea                       0.725129\n",
       "n_tons                           0.723782\n",
       "temp_anomaly_z                   0.459466\n",
       "temp_cold                        0.459466\n",
       "temp_mean                        0.459466\n",
       "temp_mild                        0.459466\n",
       "temp_hot                         0.459466\n",
       "average_rain_fall_mm_per_year    0.209971\n",
       "share_other_pesticides           0.140804\n",
       "share_herbicides                 0.110263\n",
       "share_fungicides_bactericides    0.080844\n",
       "pest_total_kg_per_ha             0.072535\n",
       "share_insecticides               0.068718\n",
       "pest_total_tons                  0.066472\n",
       "yield_hg_ha                      0.000000\n",
       "country                          0.000000\n",
       "year                             0.000000\n",
       "dtype: float64"
      ]
     },
     "execution_count": 51,
     "metadata": {},
     "output_type": "execute_result"
    }
   ],
   "source": [
    "df_combined.isna().mean().sort_values(ascending=False)"
   ]
  },
  {
   "cell_type": "markdown",
   "id": "f38d59c3",
   "metadata": {},
   "source": [
    "### Analisis de valores faltantes por paises"
   ]
  },
  {
   "cell_type": "markdown",
   "id": "82b5dfed",
   "metadata": {},
   "source": [
    "* Definimos un set “core” de variables para analizar por pais (temp_mean, average_rain_fall_mm_per_year, pest_total_tons, n_tons, share_urea).\n",
    "* Excluimos paises si para un conjunto de variables supera, por ejemplo, 50 % de nulos."
   ]
  },
  {
   "cell_type": "code",
   "execution_count": 52,
   "id": "58063ebd",
   "metadata": {},
   "outputs": [],
   "source": [
    "CORE_VARS = [\"temp_mean\", \"average_rain_fall_mm_per_year\", \"pest_total_tons\", \"n_tons\", \"share_urea\"]\n",
    "THRESH_PCT = 0.50\n",
    "MIN_VARS_BAD = 3"
   ]
  },
  {
   "cell_type": "code",
   "execution_count": 53,
   "id": "0cdd5e03",
   "metadata": {},
   "outputs": [
    {
     "name": "stdout",
     "output_type": "stream",
     "text": [
      "74 países tienen ≥ 3 variables core con > 50% de nulos. \n",
      "\n",
      "Países excluidos:\n",
      "Afghanistan\n",
      "Antigua and Barbuda\n",
      "Barbados\n",
      "Belgium-Luxembourg\n",
      "Belize\n",
      "Benin\n",
      "Bolivia (Plurinational State of)\n",
      "Bosnia and Herzegovina\n",
      "Cabo Verde\n",
      "Cambodia\n",
      "Chad\n",
      "China, Taiwan Province of\n",
      "China, mainland\n",
      "Comoros\n",
      "Congo\n",
      "Costa Rica\n",
      "Cuba\n",
      "Czechia\n",
      "Czechoslovakia\n",
      "Côte d'Ivoire\n",
      "Democratic People's Republic of Korea\n",
      "Democratic Republic of the Congo\n",
      "Djibouti\n",
      "Dominica\n",
      "Eswatini\n",
      "Ethiopia\n",
      "Ethiopia PDR\n",
      "Fiji\n",
      "French Guiana\n",
      "Gambia\n",
      "Grenada\n",
      "Guam\n",
      "Guinea-Bissau\n",
      "Israel\n",
      "Jordan\n",
      "Kuwait\n",
      "Kyrgyzstan\n",
      "Lao People's Democratic Republic\n",
      "Luxembourg\n",
      "Maldives\n",
      "Micronesia (Federated States of)\n",
      "Montserrat\n",
      "Myanmar\n",
      "Netherlands\n",
      "New Caledonia\n",
      "Pacific Islands Trust Territory\n",
      "Panama\n",
      "Paraguay\n",
      "Puerto Rico\n",
      "Republic of Moldova\n",
      "Russian Federation\n",
      "Réunion\n",
      "Saint Vincent and the Grenadines\n",
      "Sao Tome and Principe\n",
      "Serbia and Montenegro\n",
      "Slovakia\n",
      "South Sudan\n",
      "Sudan\n",
      "Sudan (former)\n",
      "Syrian Arab Republic\n",
      "The former Yugoslav Republic of Macedonia\n",
      "Timor-Leste\n",
      "Togo\n",
      "Trinidad and Tobago\n",
      "Turkey\n",
      "Turkmenistan\n",
      "USSR\n",
      "United States of America\n",
      "Uzbekistan\n",
      "Vanuatu\n",
      "Venezuela (Bolivarian Republic of)\n",
      "Viet Nam\n",
      "Yemen\n",
      "Yugoslav SFR\n"
     ]
    }
   ],
   "source": [
    "null_pct = df_combined.groupby(\"country\")[CORE_VARS].apply(lambda g: g.isna().mean())\n",
    "\n",
    "vars_above = (null_pct > THRESH_PCT).sum(axis=1)\n",
    "\n",
    "excluded_countries = vars_above[vars_above >= MIN_VARS_BAD].index\n",
    "\n",
    "print(f\"{len(excluded_countries)} países tienen ≥ {MIN_VARS_BAD} variables core con > {THRESH_PCT:.0%} de nulos. \\n\")\n",
    "print(\"Países excluidos:\")\n",
    "md_list = \"\\n\".join(excluded_countries)\n",
    "print(md_list)\n",
    "\n",
    "with open(\"excluded_countries.md\", \"w\", encoding=\"utf-8\") as f:\n",
    "    f.write(md_list)"
   ]
  },
  {
   "cell_type": "markdown",
   "id": "726efd80",
   "metadata": {},
   "source": [
    "Los modelos basados en árboles (LightGBM/XGBoost) toleran nulos aislados. Si una sola variable está muy incompleta (por ej. fertilizantes) pero las demás están bien, podemos imputar 0 y marcar un flag. Pero cuando una variable está vacía al 70...80% para un país, la señal para ese país es casi todo “imputación”, añadiendo ruido sin aportar información real. En este caso vemos que hay varios paises que tienen muchos nulos en mas de 3 variables simultaneamente, por lo que en este punto seria muy imporante definir cual es el camino a seguir.\n",
    "- a) Se eliminan las variables que son demasiado esparsas, ya que generan problemas.\n",
    "- b) Eliminamos el conjunto de paises sobre el cual tenemos demasiada poca informacion y estimamos para el resto (menor scope de resolucion pero mas precision).\n",
    "- c) Dejamos todo y probamos un modelo para ver que tan pobre puede ser su resultado, en este caso seria de la rama de arboles para tolerar tantos valores faltantes/imputados."
   ]
  },
  {
   "cell_type": "markdown",
   "id": "143186ad",
   "metadata": {},
   "source": [
    "Vamos a ir por la opcion b) y eliminamos el conjunto de paises sobre el cual tenemos demasiada poca informacion y estimamos para el resto, asumiendo que cumplimos con el target de nuestros clientes."
   ]
  },
  {
   "cell_type": "code",
   "execution_count": 54,
   "id": "3461ae5d",
   "metadata": {},
   "outputs": [],
   "source": [
    "df_clean = df_combined[~df_combined.country.isin(excluded_countries)].copy()"
   ]
  },
  {
   "cell_type": "code",
   "execution_count": 55,
   "id": "3d12ad25",
   "metadata": {},
   "outputs": [
    {
     "data": {
      "text/plain": [
       "temp_std                         0.757238\n",
       "k2o_tons                         0.697476\n",
       "p2o5_tons                        0.679287\n",
       "share_urea                       0.664439\n",
       "n_tons                           0.663697\n",
       "temp_anomaly_z                   0.158872\n",
       "temp_cold                        0.158872\n",
       "temp_mean                        0.158872\n",
       "temp_mild                        0.158872\n",
       "temp_hot                         0.158872\n",
       "share_other_pesticides           0.080549\n",
       "average_rain_fall_mm_per_year    0.066815\n",
       "share_herbicides                 0.050483\n",
       "share_fungicides_bactericides    0.031552\n",
       "share_insecticides               0.011507\n",
       "pest_total_tons                  0.009651\n",
       "pest_total_kg_per_ha             0.009651\n",
       "yield_hg_ha                      0.000000\n",
       "country                          0.000000\n",
       "year                             0.000000\n",
       "dtype: float64"
      ]
     },
     "execution_count": 55,
     "metadata": {},
     "output_type": "execute_result"
    }
   ],
   "source": [
    "df_clean.isna().mean().sort_values(ascending=False)"
   ]
  },
  {
   "cell_type": "markdown",
   "id": "22d3da87",
   "metadata": {},
   "source": [
    "### Estrategia de imputación para cada tipo de variables\n",
    "\n",
    "Variables de **Temperatura**: faltan todos los datos desde 2014 a 2016.\n",
    "1. Interpolamos linealmente o spline (para suavizar los picos) por país (con la serie 1990-2013 → extendemos a 2014-2016).\n",
    "2. Si un país no tiene datos en toda la serie: imputamos con la media global de 1990-2013.\n",
    "3. `temp_std`: lo imputamos con el valor 0, ya que estos valores nulos se generaron cuando hubo un unico registro de temperatura por año-pais.\n",
    "4. Recalculamos los buckets de temperatura (cold/mild/hot)\n",
    "4. Flag: `temp_imp` (True si se imputó cualquier estadístico).\n",
    "---\n",
    "Para la variable de **Lluvia**, que tiene nulos en medio de la serie:\n",
    "1. Interpolación temporal spline/lineal por país.\n",
    "2. si hay nulos residuales < 3-5 % → rellenamos con la mediana histórica del país.\n",
    "3. Flag: `rain_imp`.\n",
    "---\n",
    "Variables de **Pesticidas y shares de pesticidas**:\n",
    "1. Asumimos 0 = no uso / no hay dato, para los totales e intensidades.\n",
    "2. Si `pest_total_tons` imputa 0 → shares = 0.\n",
    "3. Flag: `pest_imp` (True si se puso 0 por falta de dato).\n",
    "4. `share_imp_*` (con uno global alcanza)\n",
    "---\n",
    "Variables de **Fertilizantes**: faltan todos los datos desde 1990 a 2001.\n",
    "Aca tenemos dos caminos:\n",
    "1. Trabajar con un modelo “full-years” (1990-2016):\n",
    "* Imputamos con 0 + flags `fert_imp_*` → el modelo aprenderá a ignorar cuando no hay insumos.\n",
    "2. Modelo “fert-window” (2002-2016):\n",
    "* Filtramos el dataset para quedarnos solo con los años con fertilizantes reales (sin grandes imputaciones).\n",
    "\n",
    "> Si tenemos tiempo podemos entrenar ambos y comparar RMSE. Pero para iniciar vamos con la opcion 1.\n",
    "\n",
    "---\n",
    "\n",
    "Justificaciones de cada tecnica:\n",
    "* con la **interpolación temporal** nos apoyamos en la suavidad inter-anual de clima y lluvia.\n",
    "* Es comun **imputar 0 en insumos** cuando la falta de los registros suele indicar \"no uso\".\n",
    "* Los **Flags booleanos** nos permiten que un modelo tipo LightGBM aprenda a ponderar (o ignorar) los valores imputados sin perder filas.\n",
    "* Si tenemos **dos ventanas de entrenamiento**, en una evitamos descartar información de yield pre-2002, y la otra nos permite medir el valor agregado del set de datos de fertilizantes."
   ]
  },
  {
   "cell_type": "code",
   "execution_count": 56,
   "id": "07c801f7",
   "metadata": {},
   "outputs": [],
   "source": [
    "# creamos la funcion para interpolar las variables de clima y lluvia\n",
    "def _spline_interpolate(series, order=2):\n",
    "    \"\"\"Interpola una serie temporal con splines de orden *order* y rellena huecos iniciales/finales (both)\"\"\"\n",
    "    return series.sort_index().interpolate(method=\"spline\", order=order, limit_direction=\"both\")"
   ]
  },
  {
   "cell_type": "code",
   "execution_count": 57,
   "id": "9c295556",
   "metadata": {},
   "outputs": [],
   "source": [
    "def interpolate_by_country(df, col):\n",
    "    \"\"\"Interpola la columna *col* con splines dentro de cada país y mantiene el índice original.\"\"\"\n",
    "    return df.sort_values(\"year\").groupby(\"country\")[col].transform(_spline_interpolate)"
   ]
  },
  {
   "cell_type": "code",
   "execution_count": 58,
   "id": "8f8821a1",
   "metadata": {},
   "outputs": [],
   "source": [
    "df_imputed = df_clean.copy()"
   ]
  },
  {
   "cell_type": "code",
   "execution_count": 59,
   "id": "a855bb06",
   "metadata": {},
   "outputs": [],
   "source": [
    "temp_cols = [\"temp_mean\", \"temp_std\", \"temp_anomaly_z\", \"temp_cold\", \"temp_mild\", \"temp_hot\"]\n",
    "\n",
    "# flag imputation para las variables de temperatura\n",
    "temp_flag = df_imputed[temp_cols].isna().any(axis=1).astype(\"uint8\")"
   ]
  },
  {
   "cell_type": "code",
   "execution_count": 60,
   "id": "cade4479",
   "metadata": {},
   "outputs": [],
   "source": [
    "# interpolamos la variable temp_mean\n",
    "df_imputed[\"temp_mean\"] = interpolate_by_country(df_imputed, \"temp_mean\")"
   ]
  },
  {
   "cell_type": "code",
   "execution_count": 61,
   "id": "3fd4c563",
   "metadata": {},
   "outputs": [],
   "source": [
    "# interpolamos la variable temp_std con spline. Para los NaNs finales → 0. Hago esto para que no sea tan brusco el cambio de la variable.\n",
    "df_imputed[\"temp_std\"]  = interpolate_by_country(df_imputed, \"temp_std\").fillna(0.0)"
   ]
  },
  {
   "cell_type": "code",
   "execution_count": 62,
   "id": "95ba06e8",
   "metadata": {},
   "outputs": [],
   "source": [
    "# recalcular anomalía z\n",
    "baseline = df_imputed.groupby(\"country\")[\"temp_mean\"].agg([\"mean\", \"std\"])\n",
    "\n",
    "df_imputed = df_imputed.join(baseline, on=\"country\")\n",
    "\n",
    "df_imputed[\"temp_anomaly_z\"] = (df_imputed[\"temp_mean\"] - df_imputed[\"mean\"]) / df_imputed[\"std\"]\n",
    "\n",
    "df_imputed.drop(columns=[\"mean\", \"std\"], inplace=True)"
   ]
  },
  {
   "cell_type": "code",
   "execution_count": 63,
   "id": "bb993ce3",
   "metadata": {},
   "outputs": [],
   "source": [
    "# recalculamos los buckets de temperatura\n",
    "df_imputed[\"temp_cold\"] = (df_imputed[\"temp_mean\"] < 10).astype(\"uint8\")\n",
    "\n",
    "df_imputed[\"temp_mild\"] = (df_imputed[\"temp_mean\"].between(10, 20, inclusive=\"left\")).astype(\"uint8\")\n",
    "\n",
    "df_imputed[\"temp_hot\"]  = (df_imputed[\"temp_mean\"] >= 20).astype(\"uint8\")\n",
    "\n",
    "df_imputed[\"temp_imp\"] = temp_flag.astype(\"uint8\")"
   ]
  },
  {
   "cell_type": "code",
   "execution_count": 64,
   "id": "969e7640",
   "metadata": {},
   "outputs": [],
   "source": [
    "rain_col = \"average_rain_fall_mm_per_year\"\n",
    "\n",
    "rain_flag = df_imputed[rain_col].isna()\n",
    "\n",
    "df_imputed[rain_col] = interpolate_by_country(df_imputed, rain_col)"
   ]
  },
  {
   "cell_type": "code",
   "execution_count": null,
   "id": "74ffa507",
   "metadata": {},
   "outputs": [
    {
     "name": "stderr",
     "output_type": "stream",
     "text": [
      "C:\\Users\\Nacho\\AppData\\Local\\Temp\\ipykernel_29868\\3963700891.py:6: FutureWarning: A value is trying to be set on a copy of a DataFrame or Series through chained assignment using an inplace method.\n",
      "The behavior will change in pandas 3.0. This inplace method will never work because the intermediate object on which we are setting values always behaves as a copy.\n",
      "\n",
      "For example, when doing 'df[col].method(value, inplace=True)', try using 'df.method({col: value}, inplace=True)' or df[col] = df[col].method(value) instead, to perform the operation inplace on the original object.\n",
      "\n",
      "\n",
      "  df_imputed[rain_col].fillna(country_median, inplace=True)\n",
      "C:\\Users\\Nacho\\AppData\\Local\\Temp\\ipykernel_29868\\3963700891.py:7: FutureWarning: A value is trying to be set on a copy of a DataFrame or Series through chained assignment using an inplace method.\n",
      "The behavior will change in pandas 3.0. This inplace method will never work because the intermediate object on which we are setting values always behaves as a copy.\n",
      "\n",
      "For example, when doing 'df[col].method(value, inplace=True)', try using 'df.method({col: value}, inplace=True)' or df[col] = df[col].method(value) instead, to perform the operation inplace on the original object.\n",
      "\n",
      "\n",
      "  df_imputed[rain_col].fillna(global_median, inplace=True)\n"
     ]
    }
   ],
   "source": [
    "# si todavía quedan NaN (ejemplo, paises sin datos), mediana país → mediana global\n",
    "country_median = df_imputed.groupby(\"country\")[rain_col].transform(\"median\")\n",
    "\n",
    "global_median  = df_imputed[rain_col].median()\n",
    "\n",
    "df_imputed[rain_col] = df_imputed[rain_col].fillna(country_median)\n",
    "df_imputed[rain_col] = df_imputed[rain_col].fillna(global_median)\n",
    "\n",
    "df_imputed[\"rain_imp\"] = rain_flag.astype(\"uint8\")"
   ]
  },
  {
   "cell_type": "code",
   "execution_count": 66,
   "id": "1608c5ab",
   "metadata": {},
   "outputs": [],
   "source": [
    "pest_totals = [\"pest_total_tons\", \"pest_total_kg_per_ha\"]\n",
    "pest_shares = [\"share_insecticides\", \"share_herbicides\", \"share_fungicides_bactericides\", \"share_other_pesticides\"]\n",
    "\n",
    "pest_flag = df_imputed[pest_totals + pest_shares].isna().any(axis=1)\n",
    "\n",
    "df_imputed[pest_totals + pest_shares] = df_imputed[pest_totals + pest_shares].fillna(0.0)\n",
    "\n",
    "df_imputed[\"pest_imp\"] = pest_flag.astype(\"uint8\")"
   ]
  },
  {
   "cell_type": "code",
   "execution_count": 67,
   "id": "c07351d8",
   "metadata": {},
   "outputs": [],
   "source": [
    "fert_totals = [\"n_tons\", \"p2o5_tons\", \"k2o_tons\"]\n",
    "fert_share = [\"share_urea\"]\n",
    "fert_cols = fert_totals + fert_share\n",
    "\n",
    "fert_flag = df_imputed[fert_cols].isna().any(axis=1)\n",
    "\n",
    "df_imputed[fert_cols] = df_imputed[fert_cols].fillna(0.0)\n",
    "df_imputed[\"fert_imp\"] = fert_flag.astype(\"uint8\")"
   ]
  },
  {
   "cell_type": "code",
   "execution_count": null,
   "id": "eb0c97e6",
   "metadata": {},
   "outputs": [
    {
     "data": {
      "text/plain": [
       "country                            0\n",
       "year                               0\n",
       "yield_hg_ha                        0\n",
       "temp_mean                        134\n",
       "temp_std                           0\n",
       "temp_anomaly_z                   134\n",
       "temp_cold                          0\n",
       "temp_hot                           0\n",
       "temp_mild                          0\n",
       "average_rain_fall_mm_per_year      0\n",
       "pest_total_tons                    0\n",
       "share_fungicides_bactericides      0\n",
       "share_herbicides                   0\n",
       "share_insecticides                 0\n",
       "share_other_pesticides             0\n",
       "pest_total_kg_per_ha               0\n",
       "k2o_tons                           0\n",
       "n_tons                             0\n",
       "p2o5_tons                          0\n",
       "share_urea                         0\n",
       "temp_imp                           0\n",
       "rain_imp                           0\n",
       "pest_imp                           0\n",
       "fert_imp                           0\n",
       "dtype: int64"
      ]
     },
     "execution_count": 69,
     "metadata": {},
     "output_type": "execute_result"
    }
   ],
   "source": [
    "# todavia me falta de resolver algunos casos puntuales de imputacion en la media. \n",
    "# Nota, tengo que hacer un fallback en caso de que no se completen los nulos con la interpolacion.\n",
    "df_imputed.isna().sum()"
   ]
  },
  {
   "cell_type": "markdown",
   "id": "6cd3501e",
   "metadata": {},
   "source": [
    "### Tabla resumen de la estrategia de imputación aplicada (dataset 1990-2016)\n",
    "\n",
    "| variable / grupo | % NaN inicial | Imputación | Flag |\n",
    "|------------------|--------------:|------------|------|\n",
    "| `temp_mean`, `temp_std`, `temp_anomaly_z`, `temp_cold/mild/hot` | `temp_std` 76 % <br>- resto 15 %| Interpolación spline por país.<br>NaNs residuales (solo `temp_std`) → 0.<br>Recalculo de anomalía y buckets. | `temp_imp` |\n",
    "| `average_rain_fall_mm_per_year` | 6.7 % | Spline por país → mediana histórica del país.<br>Preservamos la suavidad y evitamos datos de otros países. | `rain_imp` |\n",
    "| Pesticidas (`pest_total_tons/_kg_per_ha`, `share_*`) | 1-8 % | NaNs → 0 (se asume “no uso / no dato”). <br>Shares coherentes. | `pest_imp` |\n",
    "| Fertilizantes (`n_tons`, `p2o5_tons`, `k2o_tons`, `share_urea`) | 66-70 % | NaNs → 0 (sin dato ⇒ sin aplicación). | `fert_imp` |\n",
    "\n",
    "- **Spline (orden 2)** suavizamos los picos inter-anuales. Es apropiado para clima y lluvia.  \n",
    "- **Mediana país** para lluvia cubre los huecos al < 3-5 %.  \n",
    "- **Flags `*_imp`** permiten que el modelo aprenda a ponderar casos imputados sin descartar filas.  \n",
    "- Se excluyeron *74 países* con ≥ 3 variables “core” con > 50 % de nulos (listado en `excluded_countries.md`).\n",
    "\n",
    "> Rutas de mejora: probar modelo alternativo 2002-2016 (sin grandes imputaciones de fertilizantes) y comparar métricas (RMSE, R²).\n"
   ]
  },
  {
   "cell_type": "code",
   "execution_count": null,
   "id": "4fb12520",
   "metadata": {},
   "outputs": [],
   "source": [
    "# Lag temporal: Los efectos de fertilizantes suelen verse el mismo año, \n",
    "# pero si las estadísticas agrícolas oficiales son reportadas con retraso, tenemos que considerar desplazar +1 año.\n",
    "# Tengo que evaluar la importancia con un modelo de árbol (Random Forest / XGBoost) para confirmar qué familias realmente explican variación en el target."
   ]
  },
  {
   "cell_type": "code",
   "execution_count": null,
   "id": "e690261d",
   "metadata": {},
   "outputs": [],
   "source": [
    "# transformaciones a aplicar para normalizar las variables\n",
    "# pest_features['pest_total_kg_per_ha_log'] = np.log1p(pest_features['pest_total_kg_per_ha'])"
   ]
  },
  {
   "cell_type": "code",
   "execution_count": null,
   "id": "35a64d5a",
   "metadata": {},
   "outputs": [],
   "source": [
    "# for col in (\"N_total\", \"P2O5_total\", \"K2O_total\"):\n",
    "#     fert_features[f\"log1p_{col}\"] = np.log1p(fert_features[col])"
   ]
  }
 ],
 "metadata": {
  "kernelspec": {
   "display_name": "venv",
   "language": "python",
   "name": "python3"
  },
  "language_info": {
   "codemirror_mode": {
    "name": "ipython",
    "version": 3
   },
   "file_extension": ".py",
   "mimetype": "text/x-python",
   "name": "python",
   "nbconvert_exporter": "python",
   "pygments_lexer": "ipython3",
   "version": "3.12.0"
  }
 },
 "nbformat": 4,
 "nbformat_minor": 5
}
